{
  "cells": [
    {
      "cell_type": "code",
      "execution_count": null,
      "metadata": {},
      "outputs": [],
      "source": [
        "import os\n",
        "import pandas as pd\n",
        "import torch\n",
        "from transformers import RobertaModel, RobertaTokenizer, TrainingArguments, Trainer, DataCollatorWithPadding, RobertaForSequenceClassification\n",
        "from peft import LoraConfig, get_peft_model, PeftModel, TaskType\n",
        "from datasets import load_dataset, Dataset, ClassLabel\n",
        "import pickle\n",
        "import numpy as np\n",
        "from torch.utils.data import DataLoader\n",
        "from tqdm import tqdm\n",
        "import matplotlib.pyplot as plt\n",
        "from sklearn.metrics import accuracy_score, precision_score, recall_score, f1_score, confusion_matrix\n",
        "import seaborn as sns"
      ]
    },
    {
      "cell_type": "code",
      "execution_count": 23,
      "metadata": {
        "id": "KcJGdk0WYu_0"
      },
      "outputs": [],
      "source": [
        "# Load tokenizer and model\n",
        "base_model = 'roberta-base'\n",
        "\n",
        "dataset = load_dataset('ag_news', split='train')\n",
        "tokenizer = RobertaTokenizer.from_pretrained(base_model)\n",
        "\n",
        "def preprocess(examples):\n",
        "    tokenized = tokenizer(examples['text'], truncation=True, padding=True)\n",
        "    return tokenized\n",
        "\n",
        "tokenized_dataset = dataset.map(preprocess, batched=True, remove_columns=[\"text\"])\n",
        "tokenized_dataset = tokenized_dataset.rename_column(\"label\", \"labels\")"
      ]
    },
    {
      "cell_type": "code",
      "execution_count": 24,
      "metadata": {
        "colab": {
          "base_uri": "https://localhost:8080/"
        },
        "id": "tZaRKXFzYxvi",
        "outputId": "6834ee9b-06ff-48ba-8bb2-7d4f8f143625"
      },
      "outputs": [
        {
          "name": "stdout",
          "output_type": "stream",
          "text": [
            "number of labels: 4\n",
            "the labels: ['World', 'Sports', 'Business', 'Sci/Tech']\n"
          ]
        }
      ],
      "source": [
        "# Extract the number of classes and their names\n",
        "num_labels = dataset.features['label'].num_classes\n",
        "class_names = dataset.features[\"label\"].names\n",
        "print(f\"number of labels: {num_labels}\")\n",
        "print(f\"the labels: {class_names}\")"
      ]
    },
    {
      "cell_type": "code",
      "execution_count": 25,
      "metadata": {
        "id": "TxfNWUb7Yz2h"
      },
      "outputs": [],
      "source": [
        "# Create an id2label mapping\n",
        "id2label = {i: label for i, label in enumerate(class_names)}\n",
        "\n",
        "data_collator = DataCollatorWithPadding(tokenizer=tokenizer, return_tensors=\"pt\")"
      ]
    },
    {
      "cell_type": "code",
      "execution_count": 26,
      "metadata": {
        "colab": {
          "base_uri": "https://localhost:8080/"
        },
        "id": "6u1veafVY2eP",
        "outputId": "fe473f82-5aa4-4199-c852-7b7e74d8f447"
      },
      "outputs": [
        {
          "name": "stderr",
          "output_type": "stream",
          "text": [
            "Some weights of RobertaForSequenceClassification were not initialized from the model checkpoint at roberta-base and are newly initialized: ['classifier.dense.bias', 'classifier.dense.weight', 'classifier.out_proj.bias', 'classifier.out_proj.weight']\n",
            "You should probably TRAIN this model on a down-stream task to be able to use it for predictions and inference.\n"
          ]
        }
      ],
      "source": [
        "# Load pre-trained model\n",
        "model = RobertaForSequenceClassification.from_pretrained(\n",
        "    base_model,\n",
        "    id2label=id2label)"
      ]
    },
    {
      "cell_type": "code",
      "execution_count": 27,
      "metadata": {
        "colab": {
          "base_uri": "https://localhost:8080/"
        },
        "id": "_fB3hVnaY4c1",
        "outputId": "15a1e8f1-8e80-498d-9e2c-d8dd12bcb694"
      },
      "outputs": [
        {
          "name": "stdout",
          "output_type": "stream",
          "text": [
            "Training samples: 119360\n",
            "Evaluation samples: 640\n"
          ]
        }
      ],
      "source": [
        "# Split the dataset\n",
        "split_datasets = tokenized_dataset.train_test_split(test_size=640, seed=42, stratify_by_column=\"labels\")\n",
        "train_dataset = split_datasets['train']\n",
        "eval_dataset = split_datasets['test']\n",
        "\n",
        "print(f\"Training samples: {len(train_dataset)}\")\n",
        "print(f\"Evaluation samples: {len(eval_dataset)}\")"
      ]
    },
    {
      "cell_type": "code",
      "execution_count": 28,
      "metadata": {
        "colab": {
          "base_uri": "https://localhost:8080/"
        },
        "id": "eoVosrn7Y6b2",
        "outputId": "6dd12ae6-1212-40e9-9224-e7d09956a2ca"
      },
      "outputs": [
        {
          "name": "stdout",
          "output_type": "stream",
          "text": [
            "Label distribution in training set:\n",
            "0    29840\n",
            "1    29840\n",
            "2    29840\n",
            "3    29840\n",
            "Name: count, dtype: int64\n"
          ]
        }
      ],
      "source": [
        "# Examine class distribution to ensure balance\n",
        "label_counts = pd.Series(train_dataset['labels']).value_counts()\n",
        "print(f\"Label distribution in training set:\\n{label_counts}\")"
      ]
    },
    {
      "cell_type": "code",
      "execution_count": 29,
      "metadata": {
        "id": "A5D3qz1XY8bc"
      },
      "outputs": [],
      "source": [
        "# PEFT Config - Enhanced configuration for better performance\n",
        "peft_config = LoraConfig(\n",
        "    r=7,  # Chosen to stay under 1M parameter limit\n",
        "    lora_alpha=32,  # Higher alpha for stronger adaptation\n",
        "    lora_dropout=0.1,  # Added dropout for regularization\n",
        "    bias=\"none\",\n",
        "    # Target attention matrices for comprehensive adaptation\n",
        "    target_modules=[\"query\", \"key\", \"value\"],\n",
        "    task_type=TaskType.SEQ_CLS,  # Explicitly set the task type\n",
        ")"
      ]
    },
    {
      "cell_type": "code",
      "execution_count": 30,
      "metadata": {
        "id": "hTxcfwgQY_or"
      },
      "outputs": [],
      "source": [
        "# Create the PEFT model by applying LoRA to the base model\n",
        "peft_model = get_peft_model(model, peft_config)"
      ]
    },
    {
      "cell_type": "code",
      "execution_count": 31,
      "metadata": {
        "id": "9EMbMD6aZBil"
      },
      "outputs": [],
      "source": [
        "# Function to count trainable parameters to ensure we stay under 1 million\n",
        "def count_trainable_parameters(model):\n",
        "    trainable_params = 0\n",
        "    all_params = 0\n",
        "    for _, param in model.named_parameters():\n",
        "        all_params += param.numel()\n",
        "        if param.requires_grad:\n",
        "            trainable_params += param.numel()\n",
        "    return trainable_params, all_params"
      ]
    },
    {
      "cell_type": "code",
      "execution_count": 32,
      "metadata": {
        "colab": {
          "base_uri": "https://localhost:8080/"
        },
        "id": "MbgtnMZgZDFb",
        "outputId": "265d7e80-fa82-4b22-b823-421b909228d2"
      },
      "outputs": [
        {
          "name": "stdout",
          "output_type": "stream",
          "text": [
            "Trainable parameters: 980,740\n",
            "All parameters: 125,629,448\n",
            "Under 1M parameter limit: Yes\n"
          ]
        }
      ],
      "source": [
        "# Check if we're under the parameter limit\n",
        "trainable_params, all_params = count_trainable_parameters(peft_model)\n",
        "print(f\"Trainable parameters: {trainable_params:,}\")\n",
        "print(f\"All parameters: {all_params:,}\")\n",
        "print(f\"Under 1M parameter limit: {'Yes' if trainable_params < 1_000_000 else 'No'}\")"
      ]
    },
    {
      "cell_type": "code",
      "execution_count": 33,
      "metadata": {
        "colab": {
          "base_uri": "https://localhost:8080/"
        },
        "id": "RBEskxGrZHWm",
        "outputId": "ff14f099-ad7e-4dc2-b029-d7586ea3c599"
      },
      "outputs": [
        {
          "name": "stdout",
          "output_type": "stream",
          "text": [
            "PEFT Model\n",
            "trainable params: 980,740 || all params: 125,629,448 || trainable%: 0.7807\n"
          ]
        }
      ],
      "source": [
        "print('PEFT Model')\n",
        "peft_model.print_trainable_parameters()"
      ]
    },
    {
      "cell_type": "code",
      "execution_count": 34,
      "metadata": {
        "id": "qf7CG-1qZKBs"
      },
      "outputs": [],
      "source": [
        "# To track evaluation metrics during training\n",
        "def compute_metrics(pred):\n",
        "    labels = pred.label_ids\n",
        "    preds = pred.predictions.argmax(-1)\n",
        "\n",
        "    # Calculate accuracy and other metrics\n",
        "    accuracy = accuracy_score(labels, preds)\n",
        "    precision = precision_score(labels, preds, average='weighted')\n",
        "    recall = recall_score(labels, preds, average='weighted')\n",
        "    f1 = f1_score(labels, preds, average='weighted')\n",
        "\n",
        "    return {\n",
        "        'accuracy': accuracy,\n",
        "        'precision': precision,\n",
        "        'recall': recall,\n",
        "        'f1': f1\n",
        "    }"
      ]
    },
    {
      "cell_type": "code",
      "execution_count": 35,
      "metadata": {
        "id": "LnPSho2-ZMR9"
      },
      "outputs": [],
      "source": [
        "import transformers\n",
        "TrainingArguments = transformers.TrainingArguments\n",
        "\n",
        "# Setup Training args with improved settings for better performance\n",
        "output_dir = \"results\"\n",
        "training_args = TrainingArguments(\n",
        "    output_dir=output_dir,\n",
        "    # report_to=None,  # Disable reporting to save resources\n",
        "    eval_strategy='steps',\n",
        "    eval_steps=100,  # Evaluate more frequently\n",
        "    logging_steps=50,\n",
        "    learning_rate=2.0e-4,  # Increased learning rate for LoRA\n",
        "    num_train_epochs=3,  # Train for more epochs\n",
        "    max_steps=-1,  # Set to -1 to use num_train_epochs instead of a fixed number of steps\n",
        "    weight_decay=0.01,  # Add L2 regularization\n",
        "    per_device_train_batch_size=32,  # Increased batch size\n",
        "    per_device_eval_batch_size=64,\n",
        "    fp16=torch.cuda.is_available(),  # Use mixed precision if available\n",
        "    gradient_accumulation_steps=2,  # Accumulate gradients for stability\n",
        "    warmup_ratio=0.1,  # Add warmup steps\n",
        "    load_best_model_at_end=True,  # Save the best model\n",
        "    metric_for_best_model=\"accuracy\",\n",
        "    greater_is_better=True,\n",
        "    dataloader_num_workers=4,\n",
        "    optim=\"adamw_torch\",  # Use AdamW optimizer\n",
        "    report_to=\"none\",\n",
        ")"
      ]
    },
    {
      "cell_type": "code",
      "execution_count": 37,
      "metadata": {
        "colab": {
          "base_uri": "https://localhost:8080/"
        },
        "id": "h1TISSAYmgpR",
        "outputId": "7e00c596-6104-4778-b10a-1d127d8c7df7"
      },
      "outputs": [
        {
          "name": "stdout",
          "output_type": "stream",
          "text": [
            "Trainable parameters: 980,740\n",
            "All parameters: 125,629,448\n",
            "Under 1M parameter limit: Yes\n"
          ]
        }
      ],
      "source": [
        "# Check if we're under the parameter limit\n",
        "trainable_params, all_params = count_trainable_parameters(peft_model)\n",
        "print(f\"Trainable parameters: {trainable_params:,}\")\n",
        "print(f\"All parameters: {all_params:,}\")\n",
        "print(f\"Under 1M parameter limit: {'Yes' if trainable_params < 1_000_000 else 'No'}\")"
      ]
    },
    {
      "cell_type": "code",
      "execution_count": 38,
      "metadata": {
        "id": "-yL2iq7bZOqk"
      },
      "outputs": [],
      "source": [
        "def get_trainer(model):\n",
        "    return Trainer(\n",
        "        model=model,\n",
        "        args=training_args,\n",
        "        compute_metrics=compute_metrics,\n",
        "        train_dataset=train_dataset,\n",
        "        eval_dataset=eval_dataset,\n",
        "        data_collator=data_collator,\n",
        "    )"
      ]
    },
    {
      "cell_type": "code",
      "execution_count": 39,
      "metadata": {
        "colab": {
          "base_uri": "https://localhost:8080/",
          "height": 1000
        },
        "id": "bSxoJAhJZQj_",
        "outputId": "3c6f3719-d786-41c2-80f4-d530aeb51192"
      },
      "outputs": [
        {
          "name": "stderr",
          "output_type": "stream",
          "text": [
            "No label_names provided for model class `PeftModelForSequenceClassification`. Since `PeftModel` hides base models input arguments, if label_names is not given, label_names can't be set automatically within `Trainer`. Note that empty label_names list will be used instead.\n"
          ]
        },
        {
          "data": {
            "text/html": [
              "\n",
              "    <div>\n",
              "      \n",
              "      <progress value='5595' max='5595' style='width:300px; height:20px; vertical-align: middle;'></progress>\n",
              "      [5595/5595 1:21:38, Epoch 3/3]\n",
              "    </div>\n",
              "    <table border=\"1\" class=\"dataframe\">\n",
              "  <thead>\n",
              " <tr style=\"text-align: left;\">\n",
              "      <th>Step</th>\n",
              "      <th>Training Loss</th>\n",
              "      <th>Validation Loss</th>\n",
              "      <th>Accuracy</th>\n",
              "      <th>Precision</th>\n",
              "      <th>Recall</th>\n",
              "      <th>F1</th>\n",
              "    </tr>\n",
              "  </thead>\n",
              "  <tbody>\n",
              "    <tr>\n",
              "      <td>100</td>\n",
              "      <td>1.365000</td>\n",
              "      <td>1.319933</td>\n",
              "      <td>0.587500</td>\n",
              "      <td>0.747917</td>\n",
              "      <td>0.587500</td>\n",
              "      <td>0.522954</td>\n",
              "    </tr>\n",
              "    <tr>\n",
              "      <td>200</td>\n",
              "      <td>0.343000</td>\n",
              "      <td>0.319116</td>\n",
              "      <td>0.876563</td>\n",
              "      <td>0.875978</td>\n",
              "      <td>0.876563</td>\n",
              "      <td>0.875807</td>\n",
              "    </tr>\n",
              "    <tr>\n",
              "      <td>300</td>\n",
              "      <td>0.286000</td>\n",
              "      <td>0.290028</td>\n",
              "      <td>0.900000</td>\n",
              "      <td>0.901005</td>\n",
              "      <td>0.900000</td>\n",
              "      <td>0.899704</td>\n",
              "    </tr>\n",
              "    <tr>\n",
              "      <td>400</td>\n",
              "      <td>0.244600</td>\n",
              "      <td>0.297701</td>\n",
              "      <td>0.898438</td>\n",
              "      <td>0.900773</td>\n",
              "      <td>0.898438</td>\n",
              "      <td>0.897778</td>\n",
              "    </tr>\n",
              "    <tr>\n",
              "      <td>500</td>\n",
              "      <td>0.281900</td>\n",
              "      <td>0.287336</td>\n",
              "      <td>0.914062</td>\n",
              "      <td>0.915849</td>\n",
              "      <td>0.914062</td>\n",
              "      <td>0.913826</td>\n",
              "    </tr>\n",
              "    <tr>\n",
              "      <td>600</td>\n",
              "      <td>0.253300</td>\n",
              "      <td>0.256957</td>\n",
              "      <td>0.903125</td>\n",
              "      <td>0.902759</td>\n",
              "      <td>0.903125</td>\n",
              "      <td>0.902513</td>\n",
              "    </tr>\n",
              "    <tr>\n",
              "      <td>700</td>\n",
              "      <td>0.242800</td>\n",
              "      <td>0.234925</td>\n",
              "      <td>0.917188</td>\n",
              "      <td>0.917146</td>\n",
              "      <td>0.917188</td>\n",
              "      <td>0.916561</td>\n",
              "    </tr>\n",
              "    <tr>\n",
              "      <td>800</td>\n",
              "      <td>0.237100</td>\n",
              "      <td>0.269659</td>\n",
              "      <td>0.907813</td>\n",
              "      <td>0.908450</td>\n",
              "      <td>0.907813</td>\n",
              "      <td>0.907604</td>\n",
              "    </tr>\n",
              "    <tr>\n",
              "      <td>900</td>\n",
              "      <td>0.252100</td>\n",
              "      <td>0.237907</td>\n",
              "      <td>0.920312</td>\n",
              "      <td>0.920106</td>\n",
              "      <td>0.920312</td>\n",
              "      <td>0.920178</td>\n",
              "    </tr>\n",
              "    <tr>\n",
              "      <td>1000</td>\n",
              "      <td>0.202300</td>\n",
              "      <td>0.223833</td>\n",
              "      <td>0.923438</td>\n",
              "      <td>0.923899</td>\n",
              "      <td>0.923438</td>\n",
              "      <td>0.923447</td>\n",
              "    </tr>\n",
              "    <tr>\n",
              "      <td>1100</td>\n",
              "      <td>0.220900</td>\n",
              "      <td>0.245731</td>\n",
              "      <td>0.918750</td>\n",
              "      <td>0.920792</td>\n",
              "      <td>0.918750</td>\n",
              "      <td>0.918426</td>\n",
              "    </tr>\n",
              "    <tr>\n",
              "      <td>1200</td>\n",
              "      <td>0.210700</td>\n",
              "      <td>0.222166</td>\n",
              "      <td>0.917188</td>\n",
              "      <td>0.917334</td>\n",
              "      <td>0.917188</td>\n",
              "      <td>0.916881</td>\n",
              "    </tr>\n",
              "    <tr>\n",
              "      <td>1300</td>\n",
              "      <td>0.215800</td>\n",
              "      <td>0.228118</td>\n",
              "      <td>0.915625</td>\n",
              "      <td>0.916483</td>\n",
              "      <td>0.915625</td>\n",
              "      <td>0.915660</td>\n",
              "    </tr>\n",
              "    <tr>\n",
              "      <td>1400</td>\n",
              "      <td>0.205400</td>\n",
              "      <td>0.229828</td>\n",
              "      <td>0.917188</td>\n",
              "      <td>0.916641</td>\n",
              "      <td>0.917188</td>\n",
              "      <td>0.916626</td>\n",
              "    </tr>\n",
              "    <tr>\n",
              "      <td>1500</td>\n",
              "      <td>0.201700</td>\n",
              "      <td>0.216775</td>\n",
              "      <td>0.923438</td>\n",
              "      <td>0.923741</td>\n",
              "      <td>0.923438</td>\n",
              "      <td>0.923293</td>\n",
              "    </tr>\n",
              "    <tr>\n",
              "      <td>1600</td>\n",
              "      <td>0.199500</td>\n",
              "      <td>0.210132</td>\n",
              "      <td>0.923438</td>\n",
              "      <td>0.923409</td>\n",
              "      <td>0.923438</td>\n",
              "      <td>0.923401</td>\n",
              "    </tr>\n",
              "    <tr>\n",
              "      <td>1700</td>\n",
              "      <td>0.191600</td>\n",
              "      <td>0.205799</td>\n",
              "      <td>0.926562</td>\n",
              "      <td>0.926256</td>\n",
              "      <td>0.926562</td>\n",
              "      <td>0.926305</td>\n",
              "    </tr>\n",
              "    <tr>\n",
              "      <td>1800</td>\n",
              "      <td>0.218900</td>\n",
              "      <td>0.207152</td>\n",
              "      <td>0.926562</td>\n",
              "      <td>0.926571</td>\n",
              "      <td>0.926562</td>\n",
              "      <td>0.926536</td>\n",
              "    </tr>\n",
              "    <tr>\n",
              "      <td>1900</td>\n",
              "      <td>0.171100</td>\n",
              "      <td>0.222504</td>\n",
              "      <td>0.920312</td>\n",
              "      <td>0.920074</td>\n",
              "      <td>0.920312</td>\n",
              "      <td>0.920113</td>\n",
              "    </tr>\n",
              "    <tr>\n",
              "      <td>2000</td>\n",
              "      <td>0.187800</td>\n",
              "      <td>0.208810</td>\n",
              "      <td>0.925000</td>\n",
              "      <td>0.924856</td>\n",
              "      <td>0.925000</td>\n",
              "      <td>0.924871</td>\n",
              "    </tr>\n",
              "    <tr>\n",
              "      <td>2100</td>\n",
              "      <td>0.181600</td>\n",
              "      <td>0.204568</td>\n",
              "      <td>0.928125</td>\n",
              "      <td>0.927906</td>\n",
              "      <td>0.928125</td>\n",
              "      <td>0.927889</td>\n",
              "    </tr>\n",
              "    <tr>\n",
              "      <td>2200</td>\n",
              "      <td>0.188100</td>\n",
              "      <td>0.206451</td>\n",
              "      <td>0.934375</td>\n",
              "      <td>0.934578</td>\n",
              "      <td>0.934375</td>\n",
              "      <td>0.934149</td>\n",
              "    </tr>\n",
              "    <tr>\n",
              "      <td>2300</td>\n",
              "      <td>0.172300</td>\n",
              "      <td>0.217318</td>\n",
              "      <td>0.932813</td>\n",
              "      <td>0.932544</td>\n",
              "      <td>0.932813</td>\n",
              "      <td>0.932519</td>\n",
              "    </tr>\n",
              "    <tr>\n",
              "      <td>2400</td>\n",
              "      <td>0.168500</td>\n",
              "      <td>0.204906</td>\n",
              "      <td>0.926562</td>\n",
              "      <td>0.926549</td>\n",
              "      <td>0.926562</td>\n",
              "      <td>0.926542</td>\n",
              "    </tr>\n",
              "    <tr>\n",
              "      <td>2500</td>\n",
              "      <td>0.177500</td>\n",
              "      <td>0.190605</td>\n",
              "      <td>0.931250</td>\n",
              "      <td>0.931051</td>\n",
              "      <td>0.931250</td>\n",
              "      <td>0.931110</td>\n",
              "    </tr>\n",
              "    <tr>\n",
              "      <td>2600</td>\n",
              "      <td>0.193200</td>\n",
              "      <td>0.194024</td>\n",
              "      <td>0.928125</td>\n",
              "      <td>0.927886</td>\n",
              "      <td>0.928125</td>\n",
              "      <td>0.927867</td>\n",
              "    </tr>\n",
              "    <tr>\n",
              "      <td>2700</td>\n",
              "      <td>0.172900</td>\n",
              "      <td>0.191698</td>\n",
              "      <td>0.931250</td>\n",
              "      <td>0.931106</td>\n",
              "      <td>0.931250</td>\n",
              "      <td>0.930977</td>\n",
              "    </tr>\n",
              "    <tr>\n",
              "      <td>2800</td>\n",
              "      <td>0.164300</td>\n",
              "      <td>0.195221</td>\n",
              "      <td>0.931250</td>\n",
              "      <td>0.931018</td>\n",
              "      <td>0.931250</td>\n",
              "      <td>0.931057</td>\n",
              "    </tr>\n",
              "    <tr>\n",
              "      <td>2900</td>\n",
              "      <td>0.176900</td>\n",
              "      <td>0.191469</td>\n",
              "      <td>0.931250</td>\n",
              "      <td>0.931112</td>\n",
              "      <td>0.931250</td>\n",
              "      <td>0.931068</td>\n",
              "    </tr>\n",
              "    <tr>\n",
              "      <td>3000</td>\n",
              "      <td>0.178100</td>\n",
              "      <td>0.191635</td>\n",
              "      <td>0.932813</td>\n",
              "      <td>0.933595</td>\n",
              "      <td>0.932813</td>\n",
              "      <td>0.932717</td>\n",
              "    </tr>\n",
              "    <tr>\n",
              "      <td>3100</td>\n",
              "      <td>0.179200</td>\n",
              "      <td>0.186543</td>\n",
              "      <td>0.925000</td>\n",
              "      <td>0.924862</td>\n",
              "      <td>0.925000</td>\n",
              "      <td>0.924926</td>\n",
              "    </tr>\n",
              "    <tr>\n",
              "      <td>3200</td>\n",
              "      <td>0.192600</td>\n",
              "      <td>0.194369</td>\n",
              "      <td>0.925000</td>\n",
              "      <td>0.925389</td>\n",
              "      <td>0.925000</td>\n",
              "      <td>0.924633</td>\n",
              "    </tr>\n",
              "    <tr>\n",
              "      <td>3300</td>\n",
              "      <td>0.168200</td>\n",
              "      <td>0.190165</td>\n",
              "      <td>0.932813</td>\n",
              "      <td>0.932696</td>\n",
              "      <td>0.932813</td>\n",
              "      <td>0.932701</td>\n",
              "    </tr>\n",
              "    <tr>\n",
              "      <td>3400</td>\n",
              "      <td>0.175800</td>\n",
              "      <td>0.200274</td>\n",
              "      <td>0.931250</td>\n",
              "      <td>0.932265</td>\n",
              "      <td>0.931250</td>\n",
              "      <td>0.931000</td>\n",
              "    </tr>\n",
              "    <tr>\n",
              "      <td>3500</td>\n",
              "      <td>0.161600</td>\n",
              "      <td>0.193502</td>\n",
              "      <td>0.932813</td>\n",
              "      <td>0.932986</td>\n",
              "      <td>0.932813</td>\n",
              "      <td>0.932435</td>\n",
              "    </tr>\n",
              "    <tr>\n",
              "      <td>3600</td>\n",
              "      <td>0.176800</td>\n",
              "      <td>0.192549</td>\n",
              "      <td>0.931250</td>\n",
              "      <td>0.930960</td>\n",
              "      <td>0.931250</td>\n",
              "      <td>0.931001</td>\n",
              "    </tr>\n",
              "    <tr>\n",
              "      <td>3700</td>\n",
              "      <td>0.179400</td>\n",
              "      <td>0.198030</td>\n",
              "      <td>0.934375</td>\n",
              "      <td>0.934064</td>\n",
              "      <td>0.934375</td>\n",
              "      <td>0.934161</td>\n",
              "    </tr>\n",
              "    <tr>\n",
              "      <td>3800</td>\n",
              "      <td>0.157000</td>\n",
              "      <td>0.196879</td>\n",
              "      <td>0.929688</td>\n",
              "      <td>0.929686</td>\n",
              "      <td>0.929688</td>\n",
              "      <td>0.929628</td>\n",
              "    </tr>\n",
              "    <tr>\n",
              "      <td>3900</td>\n",
              "      <td>0.160100</td>\n",
              "      <td>0.191738</td>\n",
              "      <td>0.926562</td>\n",
              "      <td>0.926192</td>\n",
              "      <td>0.926562</td>\n",
              "      <td>0.926323</td>\n",
              "    </tr>\n",
              "    <tr>\n",
              "      <td>4000</td>\n",
              "      <td>0.165200</td>\n",
              "      <td>0.197474</td>\n",
              "      <td>0.934375</td>\n",
              "      <td>0.934334</td>\n",
              "      <td>0.934375</td>\n",
              "      <td>0.934175</td>\n",
              "    </tr>\n",
              "    <tr>\n",
              "      <td>4100</td>\n",
              "      <td>0.159000</td>\n",
              "      <td>0.199777</td>\n",
              "      <td>0.931250</td>\n",
              "      <td>0.931448</td>\n",
              "      <td>0.931250</td>\n",
              "      <td>0.931034</td>\n",
              "    </tr>\n",
              "    <tr>\n",
              "      <td>4200</td>\n",
              "      <td>0.164000</td>\n",
              "      <td>0.193650</td>\n",
              "      <td>0.932813</td>\n",
              "      <td>0.932670</td>\n",
              "      <td>0.932813</td>\n",
              "      <td>0.932489</td>\n",
              "    </tr>\n",
              "    <tr>\n",
              "      <td>4300</td>\n",
              "      <td>0.163900</td>\n",
              "      <td>0.192615</td>\n",
              "      <td>0.928125</td>\n",
              "      <td>0.927883</td>\n",
              "      <td>0.928125</td>\n",
              "      <td>0.927928</td>\n",
              "    </tr>\n",
              "    <tr>\n",
              "      <td>4400</td>\n",
              "      <td>0.153800</td>\n",
              "      <td>0.198154</td>\n",
              "      <td>0.931250</td>\n",
              "      <td>0.930928</td>\n",
              "      <td>0.931250</td>\n",
              "      <td>0.930999</td>\n",
              "    </tr>\n",
              "    <tr>\n",
              "      <td>4500</td>\n",
              "      <td>0.164500</td>\n",
              "      <td>0.203881</td>\n",
              "      <td>0.934375</td>\n",
              "      <td>0.934504</td>\n",
              "      <td>0.934375</td>\n",
              "      <td>0.934185</td>\n",
              "    </tr>\n",
              "    <tr>\n",
              "      <td>4600</td>\n",
              "      <td>0.177800</td>\n",
              "      <td>0.198300</td>\n",
              "      <td>0.931250</td>\n",
              "      <td>0.930876</td>\n",
              "      <td>0.931250</td>\n",
              "      <td>0.931022</td>\n",
              "    </tr>\n",
              "    <tr>\n",
              "      <td>4700</td>\n",
              "      <td>0.139800</td>\n",
              "      <td>0.196702</td>\n",
              "      <td>0.931250</td>\n",
              "      <td>0.930912</td>\n",
              "      <td>0.931250</td>\n",
              "      <td>0.930977</td>\n",
              "    </tr>\n",
              "    <tr>\n",
              "      <td>4800</td>\n",
              "      <td>0.155100</td>\n",
              "      <td>0.196904</td>\n",
              "      <td>0.931250</td>\n",
              "      <td>0.930991</td>\n",
              "      <td>0.931250</td>\n",
              "      <td>0.930961</td>\n",
              "    </tr>\n",
              "    <tr>\n",
              "      <td>4900</td>\n",
              "      <td>0.164100</td>\n",
              "      <td>0.197193</td>\n",
              "      <td>0.934375</td>\n",
              "      <td>0.934097</td>\n",
              "      <td>0.934375</td>\n",
              "      <td>0.934132</td>\n",
              "    </tr>\n",
              "    <tr>\n",
              "      <td>5000</td>\n",
              "      <td>0.163900</td>\n",
              "      <td>0.198507</td>\n",
              "      <td>0.932813</td>\n",
              "      <td>0.932536</td>\n",
              "      <td>0.932813</td>\n",
              "      <td>0.932547</td>\n",
              "    </tr>\n",
              "    <tr>\n",
              "      <td>5100</td>\n",
              "      <td>0.169100</td>\n",
              "      <td>0.195784</td>\n",
              "      <td>0.935937</td>\n",
              "      <td>0.935847</td>\n",
              "      <td>0.935937</td>\n",
              "      <td>0.935782</td>\n",
              "    </tr>\n",
              "    <tr>\n",
              "      <td>5200</td>\n",
              "      <td>0.156200</td>\n",
              "      <td>0.194177</td>\n",
              "      <td>0.935937</td>\n",
              "      <td>0.935704</td>\n",
              "      <td>0.935937</td>\n",
              "      <td>0.935789</td>\n",
              "    </tr>\n",
              "    <tr>\n",
              "      <td>5300</td>\n",
              "      <td>0.153100</td>\n",
              "      <td>0.198567</td>\n",
              "      <td>0.935937</td>\n",
              "      <td>0.935676</td>\n",
              "      <td>0.935937</td>\n",
              "      <td>0.935721</td>\n",
              "    </tr>\n",
              "    <tr>\n",
              "      <td>5400</td>\n",
              "      <td>0.149300</td>\n",
              "      <td>0.195235</td>\n",
              "      <td>0.940625</td>\n",
              "      <td>0.940435</td>\n",
              "      <td>0.940625</td>\n",
              "      <td>0.940475</td>\n",
              "    </tr>\n",
              "    <tr>\n",
              "      <td>5500</td>\n",
              "      <td>0.163000</td>\n",
              "      <td>0.194048</td>\n",
              "      <td>0.934375</td>\n",
              "      <td>0.934072</td>\n",
              "      <td>0.934375</td>\n",
              "      <td>0.934133</td>\n",
              "    </tr>\n",
              "  </tbody>\n",
              "</table><p>"
            ],
            "text/plain": [
              "<IPython.core.display.HTML object>"
            ]
          },
          "metadata": {},
          "output_type": "display_data"
        },
        {
          "name": "stdout",
          "output_type": "stream",
          "text": [
            "Training completed with loss: 0.2170\n",
            "Training time: 4900.93 seconds\n"
          ]
        }
      ],
      "source": [
        "# Start Training\n",
        "peft_lora_finetuning_trainer = get_trainer(peft_model)\n",
        "\n",
        "# Train the model and capture results\n",
        "result = peft_lora_finetuning_trainer.train()\n",
        "\n",
        "# Display training results\n",
        "print(f\"Training completed with loss: {result.metrics['train_loss']:.4f}\")\n",
        "print(f\"Training time: {result.metrics['train_runtime']:.2f} seconds\")"
      ]
    },
    {
      "cell_type": "code",
      "execution_count": 40,
      "metadata": {
        "id": "FO_cPvfZZS9a"
      },
      "outputs": [],
      "source": [
        "# Inference function\n",
        "def classify(model, tokenizer, text):\n",
        "    device = torch.device(\"cuda\" if torch.cuda.is_available() else \"cpu\")\n",
        "    inputs = tokenizer(text, truncation=True, padding=True, return_tensors=\"pt\").to(device)\n",
        "    model.to(device)\n",
        "    model.eval()\n",
        "\n",
        "    with torch.no_grad():\n",
        "        output = model(**inputs)\n",
        "\n",
        "    # Get prediction and convert to probabilities\n",
        "    logits = output.logits\n",
        "    probabilities = torch.nn.functional.softmax(logits, dim=-1)\n",
        "    prediction = logits.argmax(dim=-1).item()\n",
        "    confidence = probabilities[0][prediction].item()\n",
        "\n",
        "    print(f'\\nClass: {prediction}, Label: {id2label[prediction]}, Confidence: {confidence:.4f}')\n",
        "    print(f'Text: {text}')\n",
        "\n",
        "    # Show all class probabilities\n",
        "    print(\"\\nProbabilities for all classes:\")\n",
        "    for i, label in id2label.items():\n",
        "        print(f\"{label}: {probabilities[0][i].item():.4f}\")\n",
        "\n",
        "    return id2label[prediction]"
      ]
    },
    {
      "cell_type": "code",
      "execution_count": 41,
      "metadata": {
        "colab": {
          "base_uri": "https://localhost:8080/",
          "height": 698
        },
        "id": "dm4ah4BiZWQf",
        "outputId": "c84c4dc5-e64d-4a7c-89e6-378ad02e8a1e"
      },
      "outputs": [
        {
          "name": "stdout",
          "output_type": "stream",
          "text": [
            "\n",
            "Class: 0, Label: World, Confidence: 0.9871\n",
            "Text: Kederis proclaims innocence Olympic champion Kostas Kederis today left hospital ahead of his date with IOC inquisitors claiming his innocence...\n",
            "\n",
            "Probabilities for all classes:\n",
            "World: 0.9871\n",
            "Sports: 0.0104\n",
            "Business: 0.0007\n",
            "Sci/Tech: 0.0018\n",
            "\n",
            "Class: 2, Label: Business, Confidence: 0.9261\n",
            "Text: Wall St. Bears Claw Back Into the Black (Reuters) Reuters - Short-sellers, Wall Street's dwindling band of ultra-cynics, are seeing green again.\n",
            "\n",
            "Probabilities for all classes:\n",
            "World: 0.0612\n",
            "Sports: 0.0001\n",
            "Business: 0.9261\n",
            "Sci/Tech: 0.0127\n",
            "\n",
            "Class: 3, Label: Sci/Tech, Confidence: 0.9864\n",
            "Text: Google announces new smartphone with advanced AI capabilities at annual developer conference\n",
            "\n",
            "Probabilities for all classes:\n",
            "World: 0.0005\n",
            "Sports: 0.0000\n",
            "Business: 0.0131\n",
            "Sci/Tech: 0.9864\n",
            "\n",
            "Class: 3, Label: Sci/Tech, Confidence: 0.9280\n",
            "Text: Scientists discover potential cure for cancer in rainforest plant, clinical trials to begin next year\n",
            "\n",
            "Probabilities for all classes:\n",
            "World: 0.0384\n",
            "Sports: 0.0003\n",
            "Business: 0.0333\n",
            "Sci/Tech: 0.9280\n"
          ]
        },
        {
          "data": {
            "application/vnd.google.colaboratory.intrinsic+json": {
              "type": "string"
            },
            "text/plain": [
              "'Sci/Tech'"
            ]
          },
          "execution_count": 41,
          "metadata": {},
          "output_type": "execute_result"
        }
      ],
      "source": [
        "# Test with examples to verify model performance\n",
        "classify(peft_model, tokenizer, \"Kederis proclaims innocence Olympic champion Kostas Kederis today left hospital ahead of his date with IOC inquisitors claiming his innocence...\")\n",
        "classify(peft_model, tokenizer, \"Wall St. Bears Claw Back Into the Black (Reuters) Reuters - Short-sellers, Wall Street's dwindling band of ultra-cynics, are seeing green again.\")\n",
        "classify(peft_model, tokenizer, \"Google announces new smartphone with advanced AI capabilities at annual developer conference\")\n",
        "classify(peft_model, tokenizer, \"Scientists discover potential cure for cancer in rainforest plant, clinical trials to begin next year\")"
      ]
    },
    {
      "cell_type": "code",
      "execution_count": 42,
      "metadata": {
        "id": "2jSczJ8_ZaN3"
      },
      "outputs": [],
      "source": [
        "# Evaluation function\n",
        "def evaluate_model(inference_model, dataset, labelled=True, batch_size=8, data_collator=None):\n",
        "    \"\"\"\n",
        "    Evaluate a PEFT model on a dataset.\n",
        "    \"\"\"\n",
        "    # Create the DataLoader\n",
        "    eval_dataloader = DataLoader(dataset, batch_size=batch_size, collate_fn=data_collator)\n",
        "    device = torch.device(\"cuda\" if torch.cuda.is_available() else \"cpu\")\n",
        "\n",
        "    inference_model.to(device)\n",
        "    inference_model.eval()\n",
        "\n",
        "    all_predictions = []\n",
        "    if labelled:\n",
        "        all_labels = []\n",
        "\n",
        "    # Loop over the DataLoader\n",
        "    for batch in tqdm(eval_dataloader):\n",
        "        # Move each tensor in the batch to the device\n",
        "        batch = {k: v.to(device) for k, v in batch.items()}\n",
        "        with torch.no_grad():\n",
        "            outputs = inference_model(**batch)\n",
        "        predictions = outputs.logits.argmax(dim=-1)\n",
        "        all_predictions.append(predictions.cpu())\n",
        "\n",
        "        if labelled:\n",
        "            # Expecting that labels are provided under the \"labels\" key.\n",
        "            references = batch[\"labels\"]\n",
        "            all_labels.append(references.cpu())\n",
        "\n",
        "    # Concatenate predictions from all batches\n",
        "    all_predictions = torch.cat(all_predictions, dim=0)\n",
        "\n",
        "    if labelled:\n",
        "        all_labels = torch.cat(all_labels, dim=0)\n",
        "\n",
        "        # Calculate metrics\n",
        "        accuracy = accuracy_score(all_labels.numpy(), all_predictions.numpy())\n",
        "        precision = precision_score(all_labels.numpy(), all_predictions.numpy(), average='weighted')\n",
        "        recall = recall_score(all_labels.numpy(), all_predictions.numpy(), average='weighted')\n",
        "        f1 = f1_score(all_labels.numpy(), all_predictions.numpy(), average='weighted')\n",
        "\n",
        "        # Create confusion matrix\n",
        "        cm = confusion_matrix(all_labels.numpy(), all_predictions.numpy())\n",
        "\n",
        "        # Plot confusion matrix\n",
        "        plt.figure(figsize=(10, 8))\n",
        "        sns.heatmap(\n",
        "            cm,\n",
        "            annot=True,\n",
        "            fmt='d',\n",
        "            cmap='Blues',\n",
        "            xticklabels=[id2label[i] for i in range(len(id2label))],\n",
        "            yticklabels=[id2label[i] for i in range(len(id2label))]\n",
        "        )\n",
        "        plt.xlabel('Predicted')\n",
        "        plt.ylabel('True')\n",
        "        plt.title('Confusion Matrix')\n",
        "        plt.tight_layout()\n",
        "        plt.show()\n",
        "\n",
        "        print(f\"Evaluation Metrics:\")\n",
        "        print(f\"Accuracy: {accuracy:.4f}\")\n",
        "        print(f\"Precision: {precision:.4f}\")\n",
        "        print(f\"Recall: {recall:.4f}\")\n",
        "        print(f\"F1 Score: {f1:.4f}\")\n",
        "\n",
        "        return {\n",
        "            'accuracy': accuracy,\n",
        "            'precision': precision,\n",
        "            'recall': recall,\n",
        "            'f1': f1\n",
        "        }, all_predictions\n",
        "    else:\n",
        "        return all_predictions"
      ]
    },
    {
      "cell_type": "code",
      "execution_count": 43,
      "metadata": {
        "colab": {
          "base_uri": "https://localhost:8080/",
          "height": 698
        },
        "id": "jgPxeocNZfUK",
        "outputId": "df8d3140-244f-4b23-eaa5-e7dce50a0d9e"
      },
      "outputs": [
        {
          "name": "stderr",
          "output_type": "stream",
          "text": [
            "100%|██████████| 20/20 [00:03<00:00,  6.09it/s]\n"
          ]
        },
        {
          "data": {
            "image/png": "[encoded data removed]",
            "text/plain": [
              "<Figure size 1000x800 with 2 Axes>"
            ]
          },
          "metadata": {},
          "output_type": "display_data"
        },
        {
          "name": "stdout",
          "output_type": "stream",
          "text": [
            "Evaluation Metrics:\n",
            "Accuracy: 0.9234\n",
            "Precision: 0.9239\n",
            "Recall: 0.9234\n",
            "F1 Score: 0.9234\n",
            "\n",
            "Validation accuracy: 0.9234\n"
          ]
        }
      ],
      "source": [
        "# Check evaluation accuracy on validation set\n",
        "eval_metrics, _ = evaluate_model(peft_model, eval_dataset, True, 32, data_collator)\n",
        "print(f\"\\nValidation accuracy: {eval_metrics['accuracy']:.4f}\")"
      ]
    },
    {
      "cell_type": "code",
      "execution_count": 47,
      "metadata": {
        "colab": {
          "base_uri": "https://localhost:8080/",
          "height": 319,
          "referenced_widgets": [
            "43920467e9e4411ca5337fe5f4f3606f",
            "d6c1e20231f74e048b56beeba68eb959",
            "921b1e63a5b049968f2ab5e840f19cae",
            "f23660039b814e5a9503edb7689f7919",
            "0d4fe987edcc4e73b7322cbd40a6952e",
            "947791ef37ad4522890a72870d741f8d",
            "8519ff37197347efaf73b56812d59a8f",
            "3a6a9e507cf54784bc4e0aa8b2a534d2",
            "0bd6d8a73ee64ffab8d62986abe8703b",
            "d31e26aa7caf4e8d9cdec67d6850f693",
            "ff6b5364d99b4244a8cbabcf31232504"
          ]
        },
        "id": "r047mhyTZh3u",
        "outputId": "a54be7ad-3093-4b0c-c64f-d422e02fd380"
      },
      "outputs": [
        {
          "name": "stdout",
          "output_type": "stream",
          "text": [
            "\n",
            "Processing unlabelled test data...\n",
            "Unlabelled dataset keys: ['text']\n"
          ]
        },
        {
          "data": {
            "application/vnd.jupyter.widget-view+json": {
              "model_id": "43920467e9e4411ca5337fe5f4f3606f",
              "version_major": 2,
              "version_minor": 0
            },
            "text/plain": [
              "Map:   0%|          | 0/8000 [00:00<?, ? examples/s]"
            ]
          },
          "metadata": {},
          "output_type": "display_data"
        },
        {
          "name": "stdout",
          "output_type": "stream",
          "text": [
            "Loaded 8000 unlabelled test samples\n",
            "Running inference on test dataset...\n"
          ]
        },
        {
          "name": "stderr",
          "output_type": "stream",
          "text": [
            "100%|██████████| 250/250 [00:27<00:00,  9.10it/s]"
          ]
        },
        {
          "name": "stdout",
          "output_type": "stream",
          "text": [
            "Inference complete. Predictions saved to results/inference_output.csv\n",
            "\n",
            "Sample predictions:\n",
            "Sample 0: Predicted class: 3 (Sci/Tech)\n",
            "Sample 1: Predicted class: 0 (World)\n",
            "Sample 2: Predicted class: 0 (World)\n",
            "Sample 3: Predicted class: 3 (Sci/Tech)\n",
            "Sample 4: Predicted class: 2 (Business)\n"
          ]
        },
        {
          "name": "stderr",
          "output_type": "stream",
          "text": [
            "\n"
          ]
        }
      ],
      "source": [
        "\n",
        "# Process unlabelled test data\n",
        "try:\n",
        "    print(\"\\nProcessing unlabelled test data...\")\n",
        "    unlabelled_dataset = pd.read_pickle(\"test_unlabelled.pkl\")\n",
        "\n",
        "    # For unlabelled dataset, check its structure\n",
        "    print(f\"Unlabelled dataset keys: {unlabelled_dataset.column_names if hasattr(unlabelled_dataset, 'column_names') else 'N/A'}\")\n",
        "\n",
        "    # If it's a pandas DataFrame, convert to HF Dataset\n",
        "    if isinstance(unlabelled_dataset, pd.DataFrame):\n",
        "        print(\"Converting DataFrame to Dataset\")\n",
        "        unlabelled_dataset = Dataset.from_pandas(unlabelled_dataset)\n",
        "\n",
        "    # Preprocess the test data the same way as training data\n",
        "    test_dataset = unlabelled_dataset.map(preprocess, batched=True, remove_columns=[\"text\"])\n",
        "    print(f\"Loaded {len(test_dataset)} unlabelled test samples\")\n",
        "\n",
        "    # Run inference and save predictions\n",
        "    print(\"Running inference on test dataset...\")\n",
        "    preds = evaluate_model(peft_model, test_dataset, False, 32, data_collator)\n",
        "\n",
        "    df_output = pd.DataFrame({\n",
        "        'ID': range(len(preds)),\n",
        "        'Label': preds.numpy()  # Convert to numpy for saving\n",
        "    })\n",
        "\n",
        "    # Save predictions to CSV for submission\n",
        "    submission_path = os.path.join(output_dir, \"inference_output.csv\")\n",
        "    df_output.to_csv(submission_path, index=False)\n",
        "    print(f\"Inference complete. Predictions saved to {submission_path}\")\n",
        "\n",
        "    # Check the first few predictions\n",
        "    print(\"\\nSample predictions:\")\n",
        "    for i in range(min(5, len(df_output))):\n",
        "        pred_class = df_output['Label'][i]\n",
        "        print(f\"Sample {i}: Predicted class: {pred_class} ({id2label[pred_class]})\")\n",
        "\n",
        "except Exception as e:\n",
        "    print(f\"Error processing unlabelled test data: {e}\")\n",
        "    print(\"Skipping test data processing - you'll need to rerun this section when you have the test data.\")"
      ]
    },
    {
      "cell_type": "code",
      "execution_count": 48,
      "metadata": {
        "colab": {
          "base_uri": "https://localhost:8080/"
        },
        "id": "uroUadnTZoT9",
        "outputId": "6b84fe60-5ffe-41a3-84c3-930ac3a0b17e"
      },
      "outputs": [
        {
          "name": "stdout",
          "output_type": "stream",
          "text": [
            "\n",
            "Final Model Parameters:\n",
            "Total parameters: 125,629,448\n",
            "Trainable parameters: 980,740\n",
            "Percentage of parameters that are trainable: 0.78%\n",
            "Under 1M parameter limit: Yes\n"
          ]
        }
      ],
      "source": [
        "\n",
        "# Final parameter check\n",
        "final_trainable_params, final_all_params = count_trainable_parameters(peft_model)\n",
        "print(\"\\nFinal Model Parameters:\")\n",
        "print(f\"Total parameters: {final_all_params:,}\")\n",
        "print(f\"Trainable parameters: {final_trainable_params:,}\")\n",
        "print(f\"Percentage of parameters that are trainable: {100 * final_trainable_params / final_all_params:.2f}%\")\n",
        "print(f\"Under 1M parameter limit: {'Yes' if final_trainable_params <= 1_000_000 else 'No'}\")"
      ]
    },
    {
      "cell_type": "code",
      "execution_count": 49,
      "metadata": {
        "colab": {
          "base_uri": "https://localhost:8080/"
        },
        "id": "Sp3-TdEAZrJi",
        "outputId": "2f60197d-28d3-4dca-bcc8-f11737ace463"
      },
      "outputs": [
        {
          "name": "stdout",
          "output_type": "stream",
          "text": [
            "Final model saved to results/final_model\n",
            "\n",
            "Training and evaluation complete! The model is ready for submission.\n",
            "Final accuracy: 0.9234\n",
            "The model uses 980,740 trainable parameters (limit: 1,000,000)\n"
          ]
        }
      ],
      "source": [
        "\n",
        "# Save the final model\n",
        "final_model_path = os.path.join(output_dir, \"final_model\")\n",
        "peft_lora_finetuning_trainer.save_model(final_model_path)\n",
        "print(f\"Final model saved to {final_model_path}\")\n",
        "\n",
        "print(\"\\nTraining and evaluation complete! The model is ready for submission.\")\n",
        "print(f\"Final accuracy: {eval_metrics['accuracy']:.4f}\")\n",
        "print(f\"The model uses {final_trainable_params:,} trainable parameters (limit: 1,000,000)\")"
      ]
    }
  ],
  "metadata": {
    "accelerator": "GPU",
    "colab": {
      "gpuType": "T4",
      "machine_shape": "hm",
      "provenance": []
    },
    "kernelspec": {
      "display_name": "Python 3.11.4 ('base')",
      "language": "python",
      "name": "python3"
    },
    "language_info": {
      "name": "python",
      "version": "3.11.4"
    },
    "vscode": {
      "interpreter": {
        "hash": "c5f29ab0bd70a3fdfe3350be4806661ff87a7ec1a414855bb5824b269ce85de1"
      }
    },
    "widgets": {
      "application/vnd.jupyter.widget-state+json": {
        "0bd6d8a73ee64ffab8d62986abe8703b": {
          "model_module": "@jupyter-widgets/controls",
          "model_module_version": "1.5.0",
          "model_name": "ProgressStyleModel",
          "state": {
            "_model_module": "@jupyter-widgets/controls",
            "_model_module_version": "1.5.0",
            "_model_name": "ProgressStyleModel",
            "_view_count": null,
            "_view_module": "@jupyter-widgets/base",
            "_view_module_version": "1.2.0",
            "_view_name": "StyleView",
            "bar_color": null,
            "description_width": ""
          }
        },
        "0d4fe987edcc4e73b7322cbd40a6952e": {
          "model_module": "@jupyter-widgets/base",
          "model_module_version": "1.2.0",
          "model_name": "LayoutModel",
          "state": {
            "_model_module": "@jupyter-widgets/base",
            "_model_module_version": "1.2.0",
            "_model_name": "LayoutModel",
            "_view_count": null,
            "_view_module": "@jupyter-widgets/base",
            "_view_module_version": "1.2.0",
            "_view_name": "LayoutView",
            "align_content": null,
            "align_items": null,
            "align_self": null,
            "border": null,
            "bottom": null,
            "display": null,
            "flex": null,
            "flex_flow": null,
            "grid_area": null,
            "grid_auto_columns": null,
            "grid_auto_flow": null,
            "grid_auto_rows": null,
            "grid_column": null,
            "grid_gap": null,
            "grid_row": null,
            "grid_template_areas": null,
            "grid_template_columns": null,
            "grid_template_rows": null,
            "height": null,
            "justify_content": null,
            "justify_items": null,
            "left": null,
            "margin": null,
            "max_height": null,
            "max_width": null,
            "min_height": null,
            "min_width": null,
            "object_fit": null,
            "object_position": null,
            "order": null,
            "overflow": null,
            "overflow_x": null,
            "overflow_y": null,
            "padding": null,
            "right": null,
            "top": null,
            "visibility": null,
            "width": null
          }
        },
        "3a6a9e507cf54784bc4e0aa8b2a534d2": {
          "model_module": "@jupyter-widgets/base",
          "model_module_version": "1.2.0",
          "model_name": "LayoutModel",
          "state": {
            "_model_module": "@jupyter-widgets/base",
            "_model_module_version": "1.2.0",
            "_model_name": "LayoutModel",
            "_view_count": null,
            "_view_module": "@jupyter-widgets/base",
            "_view_module_version": "1.2.0",
            "_view_name": "LayoutView",
            "align_content": null,
            "align_items": null,
            "align_self": null,
            "border": null,
            "bottom": null,
            "display": null,
            "flex": null,
            "flex_flow": null,
            "grid_area": null,
            "grid_auto_columns": null,
            "grid_auto_flow": null,
            "grid_auto_rows": null,
            "grid_column": null,
            "grid_gap": null,
            "grid_row": null,
            "grid_template_areas": null,
            "grid_template_columns": null,
            "grid_template_rows": null,
            "height": null,
            "justify_content": null,
            "justify_items": null,
            "left": null,
            "margin": null,
            "max_height": null,
            "max_width": null,
            "min_height": null,
            "min_width": null,
            "object_fit": null,
            "object_position": null,
            "order": null,
            "overflow": null,
            "overflow_x": null,
            "overflow_y": null,
            "padding": null,
            "right": null,
            "top": null,
            "visibility": null,
            "width": null
          }
        },
        "43920467e9e4411ca5337fe5f4f3606f": {
          "model_module": "@jupyter-widgets/controls",
          "model_module_version": "1.5.0",
          "model_name": "HBoxModel",
          "state": {
            "_dom_classes": [],
            "_model_module": "@jupyter-widgets/controls",
            "_model_module_version": "1.5.0",
            "_model_name": "HBoxModel",
            "_view_count": null,
            "_view_module": "@jupyter-widgets/controls",
            "_view_module_version": "1.5.0",
            "_view_name": "HBoxView",
            "box_style": "",
            "children": [
              "IPY_MODEL_d6c1e20231f74e048b56beeba68eb959",
              "IPY_MODEL_921b1e63a5b049968f2ab5e840f19cae",
              "IPY_MODEL_f23660039b814e5a9503edb7689f7919"
            ],
            "layout": "IPY_MODEL_0d4fe987edcc4e73b7322cbd40a6952e"
          }
        },
        "8519ff37197347efaf73b56812d59a8f": {
          "model_module": "@jupyter-widgets/controls",
          "model_module_version": "1.5.0",
          "model_name": "DescriptionStyleModel",
          "state": {
            "_model_module": "@jupyter-widgets/controls",
            "_model_module_version": "1.5.0",
            "_model_name": "DescriptionStyleModel",
            "_view_count": null,
            "_view_module": "@jupyter-widgets/base",
            "_view_module_version": "1.2.0",
            "_view_name": "StyleView",
            "description_width": ""
          }
        },
        "921b1e63a5b049968f2ab5e840f19cae": {
          "model_module": "@jupyter-widgets/controls",
          "model_module_version": "1.5.0",
          "model_name": "FloatProgressModel",
          "state": {
            "_dom_classes": [],
            "_model_module": "@jupyter-widgets/controls",
            "_model_module_version": "1.5.0",
            "_model_name": "FloatProgressModel",
            "_view_count": null,
            "_view_module": "@jupyter-widgets/controls",
            "_view_module_version": "1.5.0",
            "_view_name": "ProgressView",
            "bar_style": "success",
            "description": "",
            "description_tooltip": null,
            "layout": "IPY_MODEL_3a6a9e507cf54784bc4e0aa8b2a534d2",
            "max": 8000,
            "min": 0,
            "orientation": "horizontal",
            "style": "IPY_MODEL_0bd6d8a73ee64ffab8d62986abe8703b",
            "value": 8000
          }
        },
        "947791ef37ad4522890a72870d741f8d": {
          "model_module": "@jupyter-widgets/base",
          "model_module_version": "1.2.0",
          "model_name": "LayoutModel",
          "state": {
            "_model_module": "@jupyter-widgets/base",
            "_model_module_version": "1.2.0",
            "_model_name": "LayoutModel",
            "_view_count": null,
            "_view_module": "@jupyter-widgets/base",
            "_view_module_version": "1.2.0",
            "_view_name": "LayoutView",
            "align_content": null,
            "align_items": null,
            "align_self": null,
            "border": null,
            "bottom": null,
            "display": null,
            "flex": null,
            "flex_flow": null,
            "grid_area": null,
            "grid_auto_columns": null,
            "grid_auto_flow": null,
            "grid_auto_rows": null,
            "grid_column": null,
            "grid_gap": null,
            "grid_row": null,
            "grid_template_areas": null,
            "grid_template_columns": null,
            "grid_template_rows": null,
            "height": null,
            "justify_content": null,
            "justify_items": null,
            "left": null,
            "margin": null,
            "max_height": null,
            "max_width": null,
            "min_height": null,
            "min_width": null,
            "object_fit": null,
            "object_position": null,
            "order": null,
            "overflow": null,
            "overflow_x": null,
            "overflow_y": null,
            "padding": null,
            "right": null,
            "top": null,
            "visibility": null,
            "width": null
          }
        },
        "d31e26aa7caf4e8d9cdec67d6850f693": {
          "model_module": "@jupyter-widgets/base",
          "model_module_version": "1.2.0",
          "model_name": "LayoutModel",
          "state": {
            "_model_module": "@jupyter-widgets/base",
            "_model_module_version": "1.2.0",
            "_model_name": "LayoutModel",
            "_view_count": null,
            "_view_module": "@jupyter-widgets/base",
            "_view_module_version": "1.2.0",
            "_view_name": "LayoutView",
            "align_content": null,
            "align_items": null,
            "align_self": null,
            "border": null,
            "bottom": null,
            "display": null,
            "flex": null,
            "flex_flow": null,
            "grid_area": null,
            "grid_auto_columns": null,
            "grid_auto_flow": null,
            "grid_auto_rows": null,
            "grid_column": null,
            "grid_gap": null,
            "grid_row": null,
            "grid_template_areas": null,
            "grid_template_columns": null,
            "grid_template_rows": null,
            "height": null,
            "justify_content": null,
            "justify_items": null,
            "left": null,
            "margin": null,
            "max_height": null,
            "max_width": null,
            "min_height": null,
            "min_width": null,
            "object_fit": null,
            "object_position": null,
            "order": null,
            "overflow": null,
            "overflow_x": null,
            "overflow_y": null,
            "padding": null,
            "right": null,
            "top": null,
            "visibility": null,
            "width": null
          }
        },
        "d6c1e20231f74e048b56beeba68eb959": {
          "model_module": "@jupyter-widgets/controls",
          "model_module_version": "1.5.0",
          "model_name": "HTMLModel",
          "state": {
            "_dom_classes": [],
            "_model_module": "@jupyter-widgets/controls",
            "_model_module_version": "1.5.0",
            "_model_name": "HTMLModel",
            "_view_count": null,
            "_view_module": "@jupyter-widgets/controls",
            "_view_module_version": "1.5.0",
            "_view_name": "HTMLView",
            "description": "",
            "description_tooltip": null,
            "layout": "IPY_MODEL_947791ef37ad4522890a72870d741f8d",
            "placeholder": "​",
            "style": "IPY_MODEL_8519ff37197347efaf73b56812d59a8f",
            "value": "Map: 100%"
          }
        },
        "f23660039b814e5a9503edb7689f7919": {
          "model_module": "@jupyter-widgets/controls",
          "model_module_version": "1.5.0",
          "model_name": "HTMLModel",
          "state": {
            "_dom_classes": [],
            "_model_module": "@jupyter-widgets/controls",
            "_model_module_version": "1.5.0",
            "_model_name": "HTMLModel",
            "_view_count": null,
            "_view_module": "@jupyter-widgets/controls",
            "_view_module_version": "1.5.0",
            "_view_name": "HTMLView",
            "description": "",
            "description_tooltip": null,
            "layout": "IPY_MODEL_d31e26aa7caf4e8d9cdec67d6850f693",
            "placeholder": "​",
            "style": "IPY_MODEL_ff6b5364d99b4244a8cbabcf31232504",
            "value": " 8000/8000 [00:05&lt;00:00, 1584.53 examples/s]"
          }
        },
        "ff6b5364d99b4244a8cbabcf31232504": {
          "model_module": "@jupyter-widgets/controls",
          "model_module_version": "1.5.0",
          "model_name": "DescriptionStyleModel",
          "state": {
            "_model_module": "@jupyter-widgets/controls",
            "_model_module_version": "1.5.0",
            "_model_name": "DescriptionStyleModel",
            "_view_count": null,
            "_view_module": "@jupyter-widgets/base",
            "_view_module_version": "1.2.0",
            "_view_name": "StyleView",
            "description_width": ""
          }
        }
      }
    }
  },
  "nbformat": 4,
  "nbformat_minor": 0
}
