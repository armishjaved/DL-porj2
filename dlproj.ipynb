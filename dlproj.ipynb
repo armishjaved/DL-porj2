{
 "cells": [
  {
   "cell_type": "code",
   "execution_count": 5,
   "metadata": {
    "colab": {
     "base_uri": "https://localhost:8080/"
    },
    "id": "tHuUINZkBhAK",
    "outputId": "817c13d6-c064-416e-b9ba-b742ce6c6f9a"
   },
   "outputs": [
    {
     "name": "stdout",
     "output_type": "stream",
     "text": [
      "Collecting datasets\n",
      "  Downloading datasets-3.5.0-py3-none-any.whl.metadata (19 kB)\n",
      "Requirement already satisfied: filelock in /usr/local/lib/python3.11/dist-packages (from datasets) (3.18.0)\n",
      "Requirement already satisfied: numpy>=1.17 in /usr/local/lib/python3.11/dist-packages (from datasets) (2.0.2)\n",
      "Requirement already satisfied: pyarrow>=15.0.0 in /usr/local/lib/python3.11/dist-packages (from datasets) (18.1.0)\n",
      "Collecting dill<0.3.9,>=0.3.0 (from datasets)\n",
      "  Downloading dill-0.3.8-py3-none-any.whl.metadata (10 kB)\n",
      "Requirement already satisfied: pandas in /usr/local/lib/python3.11/dist-packages (from datasets) (2.2.2)\n",
      "Requirement already satisfied: requests>=2.32.2 in /usr/local/lib/python3.11/dist-packages (from datasets) (2.32.3)\n",
      "Requirement already satisfied: tqdm>=4.66.3 in /usr/local/lib/python3.11/dist-packages (from datasets) (4.67.1)\n",
      "Collecting xxhash (from datasets)\n",
      "  Downloading xxhash-3.5.0-cp311-cp311-manylinux_2_17_x86_64.manylinux2014_x86_64.whl.metadata (12 kB)\n",
      "Collecting multiprocess<0.70.17 (from datasets)\n",
      "  Downloading multiprocess-0.70.16-py311-none-any.whl.metadata (7.2 kB)\n",
      "Collecting fsspec<=2024.12.0,>=2023.1.0 (from fsspec[http]<=2024.12.0,>=2023.1.0->datasets)\n",
      "  Downloading fsspec-2024.12.0-py3-none-any.whl.metadata (11 kB)\n",
      "Requirement already satisfied: aiohttp in /usr/local/lib/python3.11/dist-packages (from datasets) (3.11.15)\n",
      "Requirement already satisfied: huggingface-hub>=0.24.0 in /usr/local/lib/python3.11/dist-packages (from datasets) (0.30.2)\n",
      "Requirement already satisfied: packaging in /usr/local/lib/python3.11/dist-packages (from datasets) (24.2)\n",
      "Requirement already satisfied: pyyaml>=5.1 in /usr/local/lib/python3.11/dist-packages (from datasets) (6.0.2)\n",
      "Requirement already satisfied: aiohappyeyeballs>=2.3.0 in /usr/local/lib/python3.11/dist-packages (from aiohttp->datasets) (2.6.1)\n",
      "Requirement already satisfied: aiosignal>=1.1.2 in /usr/local/lib/python3.11/dist-packages (from aiohttp->datasets) (1.3.2)\n",
      "Requirement already satisfied: attrs>=17.3.0 in /usr/local/lib/python3.11/dist-packages (from aiohttp->datasets) (25.3.0)\n",
      "Requirement already satisfied: frozenlist>=1.1.1 in /usr/local/lib/python3.11/dist-packages (from aiohttp->datasets) (1.5.0)\n",
      "Requirement already satisfied: multidict<7.0,>=4.5 in /usr/local/lib/python3.11/dist-packages (from aiohttp->datasets) (6.4.2)\n",
      "Requirement already satisfied: propcache>=0.2.0 in /usr/local/lib/python3.11/dist-packages (from aiohttp->datasets) (0.3.1)\n",
      "Requirement already satisfied: yarl<2.0,>=1.17.0 in /usr/local/lib/python3.11/dist-packages (from aiohttp->datasets) (1.19.0)\n",
      "Requirement already satisfied: typing-extensions>=3.7.4.3 in /usr/local/lib/python3.11/dist-packages (from huggingface-hub>=0.24.0->datasets) (4.13.1)\n",
      "Requirement already satisfied: charset-normalizer<4,>=2 in /usr/local/lib/python3.11/dist-packages (from requests>=2.32.2->datasets) (3.4.1)\n",
      "Requirement already satisfied: idna<4,>=2.5 in /usr/local/lib/python3.11/dist-packages (from requests>=2.32.2->datasets) (3.10)\n",
      "Requirement already satisfied: urllib3<3,>=1.21.1 in /usr/local/lib/python3.11/dist-packages (from requests>=2.32.2->datasets) (2.3.0)\n",
      "Requirement already satisfied: certifi>=2017.4.17 in /usr/local/lib/python3.11/dist-packages (from requests>=2.32.2->datasets) (2025.1.31)\n",
      "Requirement already satisfied: python-dateutil>=2.8.2 in /usr/local/lib/python3.11/dist-packages (from pandas->datasets) (2.8.2)\n",
      "Requirement already satisfied: pytz>=2020.1 in /usr/local/lib/python3.11/dist-packages (from pandas->datasets) (2025.2)\n",
      "Requirement already satisfied: tzdata>=2022.7 in /usr/local/lib/python3.11/dist-packages (from pandas->datasets) (2025.2)\n",
      "Requirement already satisfied: six>=1.5 in /usr/local/lib/python3.11/dist-packages (from python-dateutil>=2.8.2->pandas->datasets) (1.17.0)\n",
      "Downloading datasets-3.5.0-py3-none-any.whl (491 kB)\n",
      "\u001b[2K   \u001b[90m━━━━━━━━━━━━━━━━━━━━━━━━━━━━━━━━━━━━━━━━\u001b[0m \u001b[32m491.2/491.2 kB\u001b[0m \u001b[31m18.5 MB/s\u001b[0m eta \u001b[36m0:00:00\u001b[0m\n",
      "\u001b[?25hDownloading dill-0.3.8-py3-none-any.whl (116 kB)\n",
      "\u001b[2K   \u001b[90m━━━━━━━━━━━━━━━━━━━━━━━━━━━━━━━━━━━━━━━━\u001b[0m \u001b[32m116.3/116.3 kB\u001b[0m \u001b[31m10.3 MB/s\u001b[0m eta \u001b[36m0:00:00\u001b[0m\n",
      "\u001b[?25hDownloading fsspec-2024.12.0-py3-none-any.whl (183 kB)\n",
      "\u001b[2K   \u001b[90m━━━━━━━━━━━━━━━━━━━━━━━━━━━━━━━━━━━━━━━━\u001b[0m \u001b[32m183.9/183.9 kB\u001b[0m \u001b[31m16.3 MB/s\u001b[0m eta \u001b[36m0:00:00\u001b[0m\n",
      "\u001b[?25hDownloading multiprocess-0.70.16-py311-none-any.whl (143 kB)\n",
      "\u001b[2K   \u001b[90m━━━━━━━━━━━━━━━━━━━━━━━━━━━━━━━━━━━━━━━━\u001b[0m \u001b[32m143.5/143.5 kB\u001b[0m \u001b[31m10.7 MB/s\u001b[0m eta \u001b[36m0:00:00\u001b[0m\n",
      "\u001b[?25hDownloading xxhash-3.5.0-cp311-cp311-manylinux_2_17_x86_64.manylinux2014_x86_64.whl (194 kB)\n",
      "\u001b[2K   \u001b[90m━━━━━━━━━━━━━━━━━━━━━━━━━━━━━━━━━━━━━━━━\u001b[0m \u001b[32m194.8/194.8 kB\u001b[0m \u001b[31m17.1 MB/s\u001b[0m eta \u001b[36m0:00:00\u001b[0m\n",
      "\u001b[?25hInstalling collected packages: xxhash, fsspec, dill, multiprocess, datasets\n",
      "  Attempting uninstall: fsspec\n",
      "    Found existing installation: fsspec 2025.3.2\n",
      "    Uninstalling fsspec-2025.3.2:\n",
      "      Successfully uninstalled fsspec-2025.3.2\n",
      "\u001b[31mERROR: pip's dependency resolver does not currently take into account all the packages that are installed. This behaviour is the source of the following dependency conflicts.\n",
      "torch 2.6.0+cu124 requires nvidia-cublas-cu12==12.4.5.8; platform_system == \"Linux\" and platform_machine == \"x86_64\", but you have nvidia-cublas-cu12 12.5.3.2 which is incompatible.\n",
      "torch 2.6.0+cu124 requires nvidia-cuda-cupti-cu12==12.4.127; platform_system == \"Linux\" and platform_machine == \"x86_64\", but you have nvidia-cuda-cupti-cu12 12.5.82 which is incompatible.\n",
      "torch 2.6.0+cu124 requires nvidia-cuda-nvrtc-cu12==12.4.127; platform_system == \"Linux\" and platform_machine == \"x86_64\", but you have nvidia-cuda-nvrtc-cu12 12.5.82 which is incompatible.\n",
      "torch 2.6.0+cu124 requires nvidia-cuda-runtime-cu12==12.4.127; platform_system == \"Linux\" and platform_machine == \"x86_64\", but you have nvidia-cuda-runtime-cu12 12.5.82 which is incompatible.\n",
      "torch 2.6.0+cu124 requires nvidia-cudnn-cu12==9.1.0.70; platform_system == \"Linux\" and platform_machine == \"x86_64\", but you have nvidia-cudnn-cu12 9.3.0.75 which is incompatible.\n",
      "torch 2.6.0+cu124 requires nvidia-cufft-cu12==11.2.1.3; platform_system == \"Linux\" and platform_machine == \"x86_64\", but you have nvidia-cufft-cu12 11.2.3.61 which is incompatible.\n",
      "torch 2.6.0+cu124 requires nvidia-curand-cu12==10.3.5.147; platform_system == \"Linux\" and platform_machine == \"x86_64\", but you have nvidia-curand-cu12 10.3.6.82 which is incompatible.\n",
      "torch 2.6.0+cu124 requires nvidia-cusolver-cu12==11.6.1.9; platform_system == \"Linux\" and platform_machine == \"x86_64\", but you have nvidia-cusolver-cu12 11.6.3.83 which is incompatible.\n",
      "torch 2.6.0+cu124 requires nvidia-cusparse-cu12==12.3.1.170; platform_system == \"Linux\" and platform_machine == \"x86_64\", but you have nvidia-cusparse-cu12 12.5.1.3 which is incompatible.\n",
      "torch 2.6.0+cu124 requires nvidia-nvjitlink-cu12==12.4.127; platform_system == \"Linux\" and platform_machine == \"x86_64\", but you have nvidia-nvjitlink-cu12 12.5.82 which is incompatible.\n",
      "gcsfs 2025.3.2 requires fsspec==2025.3.2, but you have fsspec 2024.12.0 which is incompatible.\u001b[0m\u001b[31m\n",
      "\u001b[0mSuccessfully installed datasets-3.5.0 dill-0.3.8 fsspec-2024.12.0 multiprocess-0.70.16 xxhash-3.5.0\n"
     ]
    }
   ],
   "source": [
    "pip install datasets"
   ]
  },
  {
   "cell_type": "code",
   "execution_count": 6,
   "metadata": {
    "id": "QEXIyN_5Yg5K"
   },
   "outputs": [],
   "source": [
    "import os\n",
    "import pandas as pd\n",
    "import torch\n",
    "from transformers import RobertaModel, RobertaTokenizer, TrainingArguments, Trainer, DataCollatorWithPadding, RobertaForSequenceClassification\n",
    "from peft import LoraConfig, get_peft_model, PeftModel, TaskType\n",
    "from datasets import load_dataset, Dataset, ClassLabel\n",
    "import pickle\n",
    "import numpy as np\n",
    "from torch.utils.data import DataLoader\n",
    "from tqdm import tqdm\n",
    "import matplotlib.pyplot as plt\n",
    "from sklearn.metrics import accuracy_score, precision_score, recall_score, f1_score, confusion_matrix\n",
    "import seaborn as sns"
   ]
  },
  {
   "cell_type": "code",
   "execution_count": 7,
   "metadata": {
    "colab": {
     "base_uri": "https://localhost:8080/",
     "height": 552,
     "referenced_widgets": [
      "f06c07e80a104c4c8736d2139a9f9491",
      "2f4d0592e86d4d2eb4f7e513ce9f9170",
      "0e6b6e394a154927aa6358126b4e72e5",
      "7f30ef55c16c438bbe25e1992e165ab0",
      "cff08217c0584c6c93debd3e9c912761",
      "dec0c79ce7fd476a9e35a25f837a2de8",
      "80a4c0373b974df294a2f4b7fbfa5bb1",
      "edf4aea0e710485a8534d0943df4b9d2",
      "00d9e209ac614466b1630dde525b6c28",
      "7279569dfee6476faa62224215224adb",
      "b530a432a1574f9c9a8729435a445fb7",
      "8c4556bb02b740e29a51c303574cf1e6",
      "d2a950c400b748368108a941371d927f",
      "cdf64539424b4e6d9a4d839015f7bd80",
      "f0b4cabd000c48cd9525ee7c0609496d",
      "8603234d1b38490cb3851f73d7e37fd3",
      "e519854401334dc5ad23f9f7b62e9946",
      "90eb53ac0e0841b5896d037895e02540",
      "6f4a32656c0c4369b5e75e8a7cef5d03",
      "cc5df758e675412dbed79bcfc1c21b95",
      "b29f7c522fef4abba878bf559e1e84ba",
      "ea98616e5a18456bb737052967953b8f",
      "b0da20bd006b4ebb825300d524d386d8",
      "c2e140b3d7ba4bf5bb8c98fd7d5c177f",
      "903a57f93f124020b13d0f66a33b599d",
      "df3c2f17675340c28a30eb6cd75a3283",
      "a7cb902b2a89445abb1b526914d10794",
      "574aa7c83a694f1fb57fa1ac4bc2fe07",
      "f6544545d489456cbe14a3fd13f5ba55",
      "c4ab3dd1aa514110a7bfa5068ec21c74",
      "d0290a288f714ae2832d75321dbb44af",
      "1a733423704a4c528e570f5b5ea4d7c1",
      "2f513cda087143eba655a9e76435931d",
      "3a480929aa514d47a173396ca6a41aed",
      "b75585019a2a4a1c96799e510ef9cbf1",
      "c40886c8e98440f399237b720e79e8bc",
      "531b0355274a4f7284f751c7f1b2c8e9",
      "f120c552e36942eeb8d91a9e1ca06e80",
      "0952b55eb0d74fe0a58e7e65070e3a60",
      "fa41d47f39cf46a1974678c5d4f7be18",
      "0d2ca8a9ee164cb29db80fdb1bb541e2",
      "471fbc01cd3e4872a15d6a527c27c56b",
      "bb9b28590a5a4c2ca4021ff8b257c468",
      "0af76de31d6d463bb24174628ea51565",
      "85ce7cdc97114f039daf316c2f95ef10",
      "e40565a4f1b6404ea86005d22369527d",
      "a103941602c5402585d1ee2dab5828fc",
      "9ccf08359a6a4e8a8a8f6b50adf1b492",
      "f53c20dcb8f54ce69961881eee7dc606",
      "2582e82522454aa688a895d105b62116",
      "aa97f08d6dd342209700ced9e63b0c01",
      "4a7a980ef7d942e7bdc25e7a929a2993",
      "0017a482c2f7484b9865b314363ce4fc",
      "32ff8e69b26747b1b689c82d6114c5f7",
      "3deee8646abf49128bbc1fa2dbe7ee07",
      "29ee6ab6d884459bb70111c38ff9cae6",
      "cb9ba19b4f37429b83b4ada898735f23",
      "28f50bb22b634b1cbb3546cd4da0f667",
      "18fb9f57e6aa4c91bb9815be83c94ac6",
      "0d94ddb69a644c5c8b9bb5398b3f9f63",
      "c7e8c54e2d3f4e499aeb8f29e56c0cdc",
      "dd569fbe563e44a1b1a10d3103bbdb37",
      "af63f51fa5454ad897990cf3eebfc0ee",
      "0f43e4cfdbf64f6f96a785372bee9bcb",
      "f1ba044891a54a219d4098cae026f334",
      "53ee04f64caa408e97329e879afebd67",
      "6d0c8b556115480a86924c3e469e2c33",
      "7d683d5ed90147a983e4250b02dc1f68",
      "71b6b1add6bd47e9bfdd005eb2f232d0",
      "ddb493f678c5492cbfb0580920c301f9",
      "3a89cd87af4a40a58a4139bbef8854d0",
      "1d0d9d2855c44f53b27019ec1f2ea91a",
      "e4910ec4dc3b4710ac9a2dedac293e93",
      "1838a3127f93486cb1e79344a26d4611",
      "6ed5ce8e9ab041beb4f46fbea7430835",
      "f71e3f82121c4546a79061bde94ab961",
      "02265e37c25047679be016a7454375e5",
      "194a1a6177114a6b90bc1c69e886b598",
      "18d1b13ef30e4b1d9a6dccdffa2e4cef",
      "77ab642ad24249799b5620a570984205",
      "4ba7e5768e9342c8b8094a261c3207b4",
      "90108dc1cfda4575881692077a578842",
      "786706ebe7b3453cab9f928edb1956ef",
      "28cf0f3fffb7481ead100b308abf5844",
      "fa94d8d9609d4c0b9efe78c30a4f932a",
      "008ea1ee3c5143df8032a0dae1bf973f",
      "93a65b5a4deb4f048c9bcf4dcb413fa4",
      "e6d9ae0f37fd43e88237db063dff7771",
      "e9014a24e8b746bca8c25b86e7da7cd5",
      "7feb840f54ac4c439a6757dd886b1107",
      "76f686e06ed24f269b508899be8b71b8",
      "7faabfb847f44b568e7d2383efd1b46d",
      "53d6809bb3fd4c90bbcc4a4f7a506c72",
      "2862e941157c42c1b80e79f5e34413fc",
      "09066cc201df473c991a2c3eccf696ec",
      "1d84dd2cbf45414c8fdfa57a614929da",
      "e0180edd2c08469099d9e3612ccdac0a",
      "9a2322afbb904132bfbde70ccf09fb3b",
      "af48441b6dcb42838f0cb971e480dc0f",
      "7d307276584b4fd2acc99b49ec6ae519",
      "c092f1914d904e14b810305074d30e29",
      "0c41fae885964e15aabd95effb429203",
      "51acf02b692142d6815ae4f0c509cab8",
      "cfa1f890a4c1473689508b3f8f28b63c",
      "6f46712bcd0a4cdaafcf7542a4db18d0",
      "5ef0520d15f94eb991f86d10a6966d32",
      "93cb636afef24c28803a0c83107a89db",
      "bb44b57e405442468a54b62b9b161b49",
      "45e55603f9bd4318ac84e0106d31f02a",
      "b886308d253f4e08bc8439f89f0c257c",
      "0feafc52866e4c4d816bc10228488d49",
      "8486f3b1766c479e9dd911fa4bd8693c",
      "ce54dd587246452d8c0ec9cd6dac5830",
      "23366abce4ab4ac1a6452a9155f43f74",
      "d3be0b8556e94de9b0c7b6d936898b64",
      "982cd544da624dd48f4a27470c566d93",
      "6e1596e4ac074235b43906bda4428e8c",
      "3abcf5bd4f75485b845b6256483803f0",
      "27f1a1c36a6644638241a58245759d18",
      "349ba87c221f4ee8bed0cfa010c401dd",
      "198c79af6296427eae381797e9b534c0"
     ]
    },
    "id": "KcJGdk0WYu_0",
    "outputId": "525d059b-d248-4403-eb16-b5ff24973b8d"
   },
   "outputs": [
    {
     "name": "stderr",
     "output_type": "stream",
     "text": [
      "/usr/local/lib/python3.11/dist-packages/huggingface_hub/utils/_auth.py:94: UserWarning: \n",
      "The secret `HF_TOKEN` does not exist in your Colab secrets.\n",
      "To authenticate with the Hugging Face Hub, create a token in your settings tab (https://huggingface.co/settings/tokens), set it as secret in your Google Colab and restart your session.\n",
      "You will be able to reuse this secret in all of your notebooks.\n",
      "Please note that authentication is recommended but still optional to access public models or datasets.\n",
      "  warnings.warn(\n"
     ]
    },
    {
     "data": {
      "application/vnd.jupyter.widget-view+json": {
       "model_id": "f06c07e80a104c4c8736d2139a9f9491",
       "version_major": 2,
       "version_minor": 0
      },
      "text/plain": [
       "README.md:   0%|          | 0.00/8.07k [00:00<?, ?B/s]"
      ]
     },
     "metadata": {},
     "output_type": "display_data"
    },
    {
     "data": {
      "application/vnd.jupyter.widget-view+json": {
       "model_id": "8c4556bb02b740e29a51c303574cf1e6",
       "version_major": 2,
       "version_minor": 0
      },
      "text/plain": [
       "train-00000-of-00001.parquet:   0%|          | 0.00/18.6M [00:00<?, ?B/s]"
      ]
     },
     "metadata": {},
     "output_type": "display_data"
    },
    {
     "data": {
      "application/vnd.jupyter.widget-view+json": {
       "model_id": "b0da20bd006b4ebb825300d524d386d8",
       "version_major": 2,
       "version_minor": 0
      },
      "text/plain": [
       "test-00000-of-00001.parquet:   0%|          | 0.00/1.23M [00:00<?, ?B/s]"
      ]
     },
     "metadata": {},
     "output_type": "display_data"
    },
    {
     "data": {
      "application/vnd.jupyter.widget-view+json": {
       "model_id": "3a480929aa514d47a173396ca6a41aed",
       "version_major": 2,
       "version_minor": 0
      },
      "text/plain": [
       "Generating train split:   0%|          | 0/120000 [00:00<?, ? examples/s]"
      ]
     },
     "metadata": {},
     "output_type": "display_data"
    },
    {
     "data": {
      "application/vnd.jupyter.widget-view+json": {
       "model_id": "85ce7cdc97114f039daf316c2f95ef10",
       "version_major": 2,
       "version_minor": 0
      },
      "text/plain": [
       "Generating test split:   0%|          | 0/7600 [00:00<?, ? examples/s]"
      ]
     },
     "metadata": {},
     "output_type": "display_data"
    },
    {
     "data": {
      "application/vnd.jupyter.widget-view+json": {
       "model_id": "29ee6ab6d884459bb70111c38ff9cae6",
       "version_major": 2,
       "version_minor": 0
      },
      "text/plain": [
       "tokenizer_config.json:   0%|          | 0.00/25.0 [00:00<?, ?B/s]"
      ]
     },
     "metadata": {},
     "output_type": "display_data"
    },
    {
     "data": {
      "application/vnd.jupyter.widget-view+json": {
       "model_id": "6d0c8b556115480a86924c3e469e2c33",
       "version_major": 2,
       "version_minor": 0
      },
      "text/plain": [
       "vocab.json:   0%|          | 0.00/899k [00:00<?, ?B/s]"
      ]
     },
     "metadata": {},
     "output_type": "display_data"
    },
    {
     "data": {
      "application/vnd.jupyter.widget-view+json": {
       "model_id": "194a1a6177114a6b90bc1c69e886b598",
       "version_major": 2,
       "version_minor": 0
      },
      "text/plain": [
       "merges.txt:   0%|          | 0.00/456k [00:00<?, ?B/s]"
      ]
     },
     "metadata": {},
     "output_type": "display_data"
    },
    {
     "data": {
      "application/vnd.jupyter.widget-view+json": {
       "model_id": "e9014a24e8b746bca8c25b86e7da7cd5",
       "version_major": 2,
       "version_minor": 0
      },
      "text/plain": [
       "tokenizer.json:   0%|          | 0.00/1.36M [00:00<?, ?B/s]"
      ]
     },
     "metadata": {},
     "output_type": "display_data"
    },
    {
     "data": {
      "application/vnd.jupyter.widget-view+json": {
       "model_id": "7d307276584b4fd2acc99b49ec6ae519",
       "version_major": 2,
       "version_minor": 0
      },
      "text/plain": [
       "config.json:   0%|          | 0.00/481 [00:00<?, ?B/s]"
      ]
     },
     "metadata": {},
     "output_type": "display_data"
    },
    {
     "data": {
      "application/vnd.jupyter.widget-view+json": {
       "model_id": "0feafc52866e4c4d816bc10228488d49",
       "version_major": 2,
       "version_minor": 0
      },
      "text/plain": [
       "Map:   0%|          | 0/120000 [00:00<?, ? examples/s]"
      ]
     },
     "metadata": {},
     "output_type": "display_data"
    }
   ],
   "source": [
    "# Load tokenizer and model\n",
    "base_model = 'roberta-base'\n",
    "\n",
    "dataset = load_dataset('ag_news', split='train')\n",
    "tokenizer = RobertaTokenizer.from_pretrained(base_model)\n",
    "\n",
    "def preprocess(examples):\n",
    "    tokenized = tokenizer(examples['text'], truncation=True, padding=True)\n",
    "    return tokenized\n",
    "\n",
    "tokenized_dataset = dataset.map(preprocess, batched=True, remove_columns=[\"text\"])\n",
    "tokenized_dataset = tokenized_dataset.rename_column(\"label\", \"labels\")"
   ]
  },
  {
   "cell_type": "code",
   "execution_count": 8,
   "metadata": {
    "colab": {
     "base_uri": "https://localhost:8080/"
    },
    "id": "tZaRKXFzYxvi",
    "outputId": "56b41ad5-c305-4f39-a258-c8813efe0d44"
   },
   "outputs": [
    {
     "name": "stdout",
     "output_type": "stream",
     "text": [
      "number of labels: 4\n",
      "the labels: ['World', 'Sports', 'Business', 'Sci/Tech']\n"
     ]
    }
   ],
   "source": [
    "# Extract the number of classes and their names\n",
    "num_labels = dataset.features['label'].num_classes\n",
    "class_names = dataset.features[\"label\"].names\n",
    "print(f\"number of labels: {num_labels}\")\n",
    "print(f\"the labels: {class_names}\")"
   ]
  },
  {
   "cell_type": "code",
   "execution_count": 9,
   "metadata": {
    "id": "TxfNWUb7Yz2h"
   },
   "outputs": [],
   "source": [
    "# Create an id2label mapping\n",
    "id2label = {i: label for i, label in enumerate(class_names)}\n",
    "\n",
    "data_collator = DataCollatorWithPadding(tokenizer=tokenizer, return_tensors=\"pt\")"
   ]
  },
  {
   "cell_type": "code",
   "execution_count": 10,
   "metadata": {
    "colab": {
     "base_uri": "https://localhost:8080/",
     "height": 140,
     "referenced_widgets": [
      "35f03c25beaf4c5bad1213835cdf0780",
      "f6fc50a1b72b4ac19a6f7f87926a56e8",
      "927d791429d94a9c98947f06971ead2e",
      "ca1179f62b5741f3bcc49848175e0052",
      "b3d7364994b04daab584bea735caf082",
      "c9f42c8e455744dc93c45f91b3bebda0",
      "2c1eafc026464159965f85bb86dc0a3d",
      "ec6853cedc3e417c8632b71c00a2b6d6",
      "ca947162015445929b8837c50867329b",
      "fdeb89f0e0114cbfb946575806244a5a",
      "321279cd683a497eb91c1b4937bdc210"
     ]
    },
    "id": "6u1veafVY2eP",
    "outputId": "a21a5353-5e35-475d-a710-e65990a40e3f"
   },
   "outputs": [
    {
     "name": "stderr",
     "output_type": "stream",
     "text": [
      "Xet Storage is enabled for this repo, but the 'hf_xet' package is not installed. Falling back to regular HTTP download. For better performance, install the package with: `pip install huggingface_hub[hf_xet]` or `pip install hf_xet`\n",
      "WARNING:huggingface_hub.file_download:Xet Storage is enabled for this repo, but the 'hf_xet' package is not installed. Falling back to regular HTTP download. For better performance, install the package with: `pip install huggingface_hub[hf_xet]` or `pip install hf_xet`\n"
     ]
    },
    {
     "data": {
      "application/vnd.jupyter.widget-view+json": {
       "model_id": "35f03c25beaf4c5bad1213835cdf0780",
       "version_major": 2,
       "version_minor": 0
      },
      "text/plain": [
       "model.safetensors:   0%|          | 0.00/499M [00:00<?, ?B/s]"
      ]
     },
     "metadata": {},
     "output_type": "display_data"
    },
    {
     "name": "stderr",
     "output_type": "stream",
     "text": [
      "Some weights of RobertaForSequenceClassification were not initialized from the model checkpoint at roberta-base and are newly initialized: ['classifier.dense.bias', 'classifier.dense.weight', 'classifier.out_proj.bias', 'classifier.out_proj.weight']\n",
      "You should probably TRAIN this model on a down-stream task to be able to use it for predictions and inference.\n"
     ]
    }
   ],
   "source": [
    "# Load pre-trained model\n",
    "model = RobertaForSequenceClassification.from_pretrained(\n",
    "    base_model,\n",
    "    id2label=id2label)"
   ]
  },
  {
   "cell_type": "code",
   "execution_count": 11,
   "metadata": {
    "colab": {
     "base_uri": "https://localhost:8080/"
    },
    "id": "_fB3hVnaY4c1",
    "outputId": "a844dee0-5bd6-44da-f7a0-cc2e10621486"
   },
   "outputs": [
    {
     "name": "stdout",
     "output_type": "stream",
     "text": [
      "Training samples: 119360\n",
      "Evaluation samples: 640\n"
     ]
    }
   ],
   "source": [
    "# Split the dataset\n",
    "split_datasets = tokenized_dataset.train_test_split(test_size=640, seed=42, stratify_by_column=\"labels\")\n",
    "train_dataset = split_datasets['train']\n",
    "eval_dataset = split_datasets['test']\n",
    "\n",
    "print(f\"Training samples: {len(train_dataset)}\")\n",
    "print(f\"Evaluation samples: {len(eval_dataset)}\")"
   ]
  },
  {
   "cell_type": "code",
   "execution_count": 12,
   "metadata": {
    "colab": {
     "base_uri": "https://localhost:8080/"
    },
    "id": "eoVosrn7Y6b2",
    "outputId": "6ae8c08b-5bcf-4039-ccbd-4bb50ab79080"
   },
   "outputs": [
    {
     "name": "stdout",
     "output_type": "stream",
     "text": [
      "Label distribution in training set:\n",
      "0    29840\n",
      "1    29840\n",
      "2    29840\n",
      "3    29840\n",
      "Name: count, dtype: int64\n"
     ]
    }
   ],
   "source": [
    "# Examine class distribution to ensure balance\n",
    "label_counts = pd.Series(train_dataset['labels']).value_counts()\n",
    "print(f\"Label distribution in training set:\\n{label_counts}\")"
   ]
  },
  {
   "cell_type": "code",
   "execution_count": 13,
   "metadata": {
    "id": "A5D3qz1XY8bc"
   },
   "outputs": [],
   "source": [
    "# PEFT Config - Enhanced configuration for better performance\n",
    "peft_config = LoraConfig(\n",
    "    r=7,  # Chosen to stay under 1M parameter limit\n",
    "    lora_alpha=32,  # Higher alpha for stronger adaptation\n",
    "    lora_dropout=0.1,  # Added dropout for regularization\n",
    "    bias=\"none\",\n",
    "    # Target attention matrices for comprehensive adaptation\n",
    "    target_modules=[\"query\", \"key\", \"value\"],\n",
    "    task_type=TaskType.SEQ_CLS,  # Explicitly set the task type\n",
    ")"
   ]
  },
  {
   "cell_type": "code",
   "execution_count": 14,
   "metadata": {
    "id": "hTxcfwgQY_or"
   },
   "outputs": [],
   "source": [
    "# Create the PEFT model by applying LoRA to the base model\n",
    "peft_model = get_peft_model(model, peft_config)"
   ]
  },
  {
   "cell_type": "code",
   "execution_count": 15,
   "metadata": {
    "id": "9EMbMD6aZBil"
   },
   "outputs": [],
   "source": [
    "# Function to count trainable parameters to ensure we stay under 1 million\n",
    "def count_trainable_parameters(model):\n",
    "    trainable_params = 0\n",
    "    all_params = 0\n",
    "    for _, param in model.named_parameters():\n",
    "        all_params += param.numel()\n",
    "        if param.requires_grad:\n",
    "            trainable_params += param.numel()\n",
    "    return trainable_params, all_params"
   ]
  },
  {
   "cell_type": "code",
   "execution_count": 16,
   "metadata": {
    "colab": {
     "base_uri": "https://localhost:8080/"
    },
    "id": "MbgtnMZgZDFb",
    "outputId": "dfccd465-600b-4c1f-ad99-7417948785bc"
   },
   "outputs": [
    {
     "name": "stdout",
     "output_type": "stream",
     "text": [
      "Trainable parameters: 980,740\n",
      "All parameters: 125,629,448\n",
      "Under 1M parameter limit: Yes\n"
     ]
    }
   ],
   "source": [
    "# Check if we're under the parameter limit\n",
    "trainable_params, all_params = count_trainable_parameters(peft_model)\n",
    "print(f\"Trainable parameters: {trainable_params:,}\")\n",
    "print(f\"All parameters: {all_params:,}\")\n",
    "print(f\"Under 1M parameter limit: {'Yes' if trainable_params < 1_000_000 else 'No'}\")"
   ]
  },
  {
   "cell_type": "code",
   "execution_count": 17,
   "metadata": {
    "colab": {
     "base_uri": "https://localhost:8080/"
    },
    "id": "RBEskxGrZHWm",
    "outputId": "bd6e91e2-c317-4066-e416-33726b2ec154"
   },
   "outputs": [
    {
     "name": "stdout",
     "output_type": "stream",
     "text": [
      "PEFT Model\n",
      "trainable params: 980,740 || all params: 125,629,448 || trainable%: 0.7807\n"
     ]
    }
   ],
   "source": [
    "print('PEFT Model')\n",
    "peft_model.print_trainable_parameters()"
   ]
  },
  {
   "cell_type": "code",
   "execution_count": 18,
   "metadata": {
    "id": "qf7CG-1qZKBs"
   },
   "outputs": [],
   "source": [
    "# To track evaluation metrics during training\n",
    "def compute_metrics(pred):\n",
    "    labels = pred.label_ids\n",
    "    preds = pred.predictions.argmax(-1)\n",
    "\n",
    "    # Calculate accuracy and other metrics\n",
    "    accuracy = accuracy_score(labels, preds)\n",
    "    precision = precision_score(labels, preds, average='weighted')\n",
    "    recall = recall_score(labels, preds, average='weighted')\n",
    "    f1 = f1_score(labels, preds, average='weighted')\n",
    "\n",
    "    return {\n",
    "        'accuracy': accuracy,\n",
    "        'precision': precision,\n",
    "        'recall': recall,\n",
    "        'f1': f1\n",
    "    }"
   ]
  },
  {
   "cell_type": "code",
   "execution_count": 19,
   "metadata": {
    "id": "LnPSho2-ZMR9"
   },
   "outputs": [],
   "source": [
    "import transformers\n",
    "TrainingArguments = transformers.TrainingArguments\n",
    "\n",
    "# Setup Training args with improved settings for better performance\n",
    "output_dir = \"results\"\n",
    "training_args = TrainingArguments(\n",
    "    output_dir=output_dir,\n",
    "    # report_to=None,  # Disable reporting to save resources\n",
    "    eval_strategy='steps',\n",
    "    eval_steps=100,  # Evaluate more frequently\n",
    "    logging_steps=50,\n",
    "    learning_rate=2.5e-4,  # Increased learning rate for LoRA\n",
    "    num_train_epochs=3,  # Train for more epochs\n",
    "    max_steps=-1,  # Set to -1 to use num_train_epochs instead of a fixed number of steps\n",
    "    weight_decay=0.01,  # Add L2 regularization\n",
    "    per_device_train_batch_size=32,  # Increased batch size\n",
    "    per_device_eval_batch_size=64,\n",
    "    fp16=torch.cuda.is_available(),  # Use mixed precision if available\n",
    "    gradient_accumulation_steps=2,  # Accumulate gradients for stability\n",
    "    warmup_ratio=0.1,  # Add warmup steps\n",
    "    load_best_model_at_end=True,  # Save the best model\n",
    "    metric_for_best_model=\"accuracy\",\n",
    "    greater_is_better=True,\n",
    "    dataloader_num_workers=4,\n",
    "    optim=\"adamw_torch\",  # Use AdamW optimizer\n",
    "    report_to=\"none\",\n",
    ")"
   ]
  },
  {
   "cell_type": "code",
   "execution_count": 20,
   "metadata": {
    "colab": {
     "base_uri": "https://localhost:8080/"
    },
    "id": "h1TISSAYmgpR",
    "outputId": "6838e5ca-e59c-4adf-e475-72a6efd62914"
   },
   "outputs": [
    {
     "name": "stdout",
     "output_type": "stream",
     "text": [
      "Trainable parameters: 980,740\n",
      "All parameters: 125,629,448\n",
      "Under 1M parameter limit: Yes\n"
     ]
    }
   ],
   "source": [
    "# Check if we're under the parameter limit\n",
    "trainable_params, all_params = count_trainable_parameters(peft_model)\n",
    "print(f\"Trainable parameters: {trainable_params:,}\")\n",
    "print(f\"All parameters: {all_params:,}\")\n",
    "print(f\"Under 1M parameter limit: {'Yes' if trainable_params < 1_000_000 else 'No'}\")"
   ]
  },
  {
   "cell_type": "code",
   "execution_count": 21,
   "metadata": {
    "id": "-yL2iq7bZOqk"
   },
   "outputs": [],
   "source": [
    "def get_trainer(model):\n",
    "    return Trainer(\n",
    "        model=model,\n",
    "        args=training_args,\n",
    "        compute_metrics=compute_metrics,\n",
    "        train_dataset=train_dataset,\n",
    "        eval_dataset=eval_dataset,\n",
    "        data_collator=data_collator,\n",
    "    )"
   ]
  },
  {
   "cell_type": "code",
   "execution_count": 22,
   "metadata": {
    "colab": {
     "base_uri": "https://localhost:8080/",
     "height": 1000
    },
    "id": "bSxoJAhJZQj_",
    "outputId": "2afa2008-0f8a-42e5-bade-fac924f110df"
   },
   "outputs": [
    {
     "name": "stderr",
     "output_type": "stream",
     "text": [
      "No label_names provided for model class `PeftModelForSequenceClassification`. Since `PeftModel` hides base models input arguments, if label_names is not given, label_names can't be set automatically within `Trainer`. Note that empty label_names list will be used instead.\n"
     ]
    },
    {
     "data": {
      "text/html": [
       "\n",
       "    <div>\n",
       "      \n",
       "      <progress value='5595' max='5595' style='width:300px; height:20px; vertical-align: middle;'></progress>\n",
       "      [5595/5595 1:24:55, Epoch 3/3]\n",
       "    </div>\n",
       "    <table border=\"1\" class=\"dataframe\">\n",
       "  <thead>\n",
       " <tr style=\"text-align: left;\">\n",
       "      <th>Step</th>\n",
       "      <th>Training Loss</th>\n",
       "      <th>Validation Loss</th>\n",
       "      <th>Accuracy</th>\n",
       "      <th>Precision</th>\n",
       "      <th>Recall</th>\n",
       "      <th>F1</th>\n",
       "    </tr>\n",
       "  </thead>\n",
       "  <tbody>\n",
       "    <tr>\n",
       "      <td>100</td>\n",
       "      <td>1.354700</td>\n",
       "      <td>1.247783</td>\n",
       "      <td>0.790625</td>\n",
       "      <td>0.831710</td>\n",
       "      <td>0.790625</td>\n",
       "      <td>0.780132</td>\n",
       "    </tr>\n",
       "    <tr>\n",
       "      <td>200</td>\n",
       "      <td>0.331400</td>\n",
       "      <td>0.316282</td>\n",
       "      <td>0.878125</td>\n",
       "      <td>0.877174</td>\n",
       "      <td>0.878125</td>\n",
       "      <td>0.877335</td>\n",
       "    </tr>\n",
       "    <tr>\n",
       "      <td>300</td>\n",
       "      <td>0.279200</td>\n",
       "      <td>0.279979</td>\n",
       "      <td>0.906250</td>\n",
       "      <td>0.906582</td>\n",
       "      <td>0.906250</td>\n",
       "      <td>0.905852</td>\n",
       "    </tr>\n",
       "    <tr>\n",
       "      <td>400</td>\n",
       "      <td>0.242200</td>\n",
       "      <td>0.275638</td>\n",
       "      <td>0.893750</td>\n",
       "      <td>0.896528</td>\n",
       "      <td>0.893750</td>\n",
       "      <td>0.892982</td>\n",
       "    </tr>\n",
       "    <tr>\n",
       "      <td>500</td>\n",
       "      <td>0.286400</td>\n",
       "      <td>0.281385</td>\n",
       "      <td>0.918750</td>\n",
       "      <td>0.921090</td>\n",
       "      <td>0.918750</td>\n",
       "      <td>0.918397</td>\n",
       "    </tr>\n",
       "    <tr>\n",
       "      <td>600</td>\n",
       "      <td>0.243700</td>\n",
       "      <td>0.242698</td>\n",
       "      <td>0.923438</td>\n",
       "      <td>0.923525</td>\n",
       "      <td>0.923438</td>\n",
       "      <td>0.923189</td>\n",
       "    </tr>\n",
       "    <tr>\n",
       "      <td>700</td>\n",
       "      <td>0.233900</td>\n",
       "      <td>0.229657</td>\n",
       "      <td>0.917188</td>\n",
       "      <td>0.917285</td>\n",
       "      <td>0.917188</td>\n",
       "      <td>0.916632</td>\n",
       "    </tr>\n",
       "    <tr>\n",
       "      <td>800</td>\n",
       "      <td>0.236100</td>\n",
       "      <td>0.269761</td>\n",
       "      <td>0.901563</td>\n",
       "      <td>0.901811</td>\n",
       "      <td>0.901563</td>\n",
       "      <td>0.901181</td>\n",
       "    </tr>\n",
       "    <tr>\n",
       "      <td>900</td>\n",
       "      <td>0.246100</td>\n",
       "      <td>0.236686</td>\n",
       "      <td>0.921875</td>\n",
       "      <td>0.921965</td>\n",
       "      <td>0.921875</td>\n",
       "      <td>0.921846</td>\n",
       "    </tr>\n",
       "    <tr>\n",
       "      <td>1000</td>\n",
       "      <td>0.193800</td>\n",
       "      <td>0.234247</td>\n",
       "      <td>0.920312</td>\n",
       "      <td>0.920727</td>\n",
       "      <td>0.920312</td>\n",
       "      <td>0.920437</td>\n",
       "    </tr>\n",
       "    <tr>\n",
       "      <td>1100</td>\n",
       "      <td>0.220100</td>\n",
       "      <td>0.252220</td>\n",
       "      <td>0.928125</td>\n",
       "      <td>0.928947</td>\n",
       "      <td>0.928125</td>\n",
       "      <td>0.927758</td>\n",
       "    </tr>\n",
       "    <tr>\n",
       "      <td>1200</td>\n",
       "      <td>0.210100</td>\n",
       "      <td>0.222727</td>\n",
       "      <td>0.918750</td>\n",
       "      <td>0.919206</td>\n",
       "      <td>0.918750</td>\n",
       "      <td>0.918474</td>\n",
       "    </tr>\n",
       "    <tr>\n",
       "      <td>1300</td>\n",
       "      <td>0.214400</td>\n",
       "      <td>0.225022</td>\n",
       "      <td>0.925000</td>\n",
       "      <td>0.925575</td>\n",
       "      <td>0.925000</td>\n",
       "      <td>0.925017</td>\n",
       "    </tr>\n",
       "    <tr>\n",
       "      <td>1400</td>\n",
       "      <td>0.201000</td>\n",
       "      <td>0.228734</td>\n",
       "      <td>0.920312</td>\n",
       "      <td>0.919781</td>\n",
       "      <td>0.920312</td>\n",
       "      <td>0.919633</td>\n",
       "    </tr>\n",
       "    <tr>\n",
       "      <td>1500</td>\n",
       "      <td>0.196600</td>\n",
       "      <td>0.208109</td>\n",
       "      <td>0.923438</td>\n",
       "      <td>0.923416</td>\n",
       "      <td>0.923438</td>\n",
       "      <td>0.923306</td>\n",
       "    </tr>\n",
       "    <tr>\n",
       "      <td>1600</td>\n",
       "      <td>0.197200</td>\n",
       "      <td>0.207401</td>\n",
       "      <td>0.925000</td>\n",
       "      <td>0.925024</td>\n",
       "      <td>0.925000</td>\n",
       "      <td>0.924957</td>\n",
       "    </tr>\n",
       "    <tr>\n",
       "      <td>1700</td>\n",
       "      <td>0.194800</td>\n",
       "      <td>0.207185</td>\n",
       "      <td>0.921875</td>\n",
       "      <td>0.921405</td>\n",
       "      <td>0.921875</td>\n",
       "      <td>0.921599</td>\n",
       "    </tr>\n",
       "    <tr>\n",
       "      <td>1800</td>\n",
       "      <td>0.214600</td>\n",
       "      <td>0.209509</td>\n",
       "      <td>0.926562</td>\n",
       "      <td>0.926635</td>\n",
       "      <td>0.926562</td>\n",
       "      <td>0.926430</td>\n",
       "    </tr>\n",
       "    <tr>\n",
       "      <td>1900</td>\n",
       "      <td>0.173500</td>\n",
       "      <td>0.232702</td>\n",
       "      <td>0.921875</td>\n",
       "      <td>0.921513</td>\n",
       "      <td>0.921875</td>\n",
       "      <td>0.921524</td>\n",
       "    </tr>\n",
       "    <tr>\n",
       "      <td>2000</td>\n",
       "      <td>0.177000</td>\n",
       "      <td>0.211271</td>\n",
       "      <td>0.928125</td>\n",
       "      <td>0.927902</td>\n",
       "      <td>0.928125</td>\n",
       "      <td>0.927947</td>\n",
       "    </tr>\n",
       "    <tr>\n",
       "      <td>2100</td>\n",
       "      <td>0.176500</td>\n",
       "      <td>0.214807</td>\n",
       "      <td>0.926562</td>\n",
       "      <td>0.926850</td>\n",
       "      <td>0.926562</td>\n",
       "      <td>0.926442</td>\n",
       "    </tr>\n",
       "    <tr>\n",
       "      <td>2200</td>\n",
       "      <td>0.178300</td>\n",
       "      <td>0.216250</td>\n",
       "      <td>0.928125</td>\n",
       "      <td>0.928125</td>\n",
       "      <td>0.928125</td>\n",
       "      <td>0.927874</td>\n",
       "    </tr>\n",
       "    <tr>\n",
       "      <td>2300</td>\n",
       "      <td>0.168900</td>\n",
       "      <td>0.227987</td>\n",
       "      <td>0.928125</td>\n",
       "      <td>0.928547</td>\n",
       "      <td>0.928125</td>\n",
       "      <td>0.927953</td>\n",
       "    </tr>\n",
       "    <tr>\n",
       "      <td>2400</td>\n",
       "      <td>0.166600</td>\n",
       "      <td>0.212204</td>\n",
       "      <td>0.926562</td>\n",
       "      <td>0.926555</td>\n",
       "      <td>0.926562</td>\n",
       "      <td>0.926536</td>\n",
       "    </tr>\n",
       "    <tr>\n",
       "      <td>2500</td>\n",
       "      <td>0.175700</td>\n",
       "      <td>0.192872</td>\n",
       "      <td>0.932813</td>\n",
       "      <td>0.932637</td>\n",
       "      <td>0.932813</td>\n",
       "      <td>0.932666</td>\n",
       "    </tr>\n",
       "    <tr>\n",
       "      <td>2600</td>\n",
       "      <td>0.187900</td>\n",
       "      <td>0.199847</td>\n",
       "      <td>0.931250</td>\n",
       "      <td>0.931881</td>\n",
       "      <td>0.931250</td>\n",
       "      <td>0.931063</td>\n",
       "    </tr>\n",
       "    <tr>\n",
       "      <td>2700</td>\n",
       "      <td>0.169600</td>\n",
       "      <td>0.197078</td>\n",
       "      <td>0.931250</td>\n",
       "      <td>0.931484</td>\n",
       "      <td>0.931250</td>\n",
       "      <td>0.931039</td>\n",
       "    </tr>\n",
       "    <tr>\n",
       "      <td>2800</td>\n",
       "      <td>0.164300</td>\n",
       "      <td>0.204523</td>\n",
       "      <td>0.926562</td>\n",
       "      <td>0.926690</td>\n",
       "      <td>0.926562</td>\n",
       "      <td>0.926528</td>\n",
       "    </tr>\n",
       "    <tr>\n",
       "      <td>2900</td>\n",
       "      <td>0.171300</td>\n",
       "      <td>0.192461</td>\n",
       "      <td>0.932813</td>\n",
       "      <td>0.933337</td>\n",
       "      <td>0.932813</td>\n",
       "      <td>0.932787</td>\n",
       "    </tr>\n",
       "    <tr>\n",
       "      <td>3000</td>\n",
       "      <td>0.171700</td>\n",
       "      <td>0.190861</td>\n",
       "      <td>0.925000</td>\n",
       "      <td>0.925523</td>\n",
       "      <td>0.925000</td>\n",
       "      <td>0.924892</td>\n",
       "    </tr>\n",
       "    <tr>\n",
       "      <td>3100</td>\n",
       "      <td>0.177100</td>\n",
       "      <td>0.182864</td>\n",
       "      <td>0.929688</td>\n",
       "      <td>0.929565</td>\n",
       "      <td>0.929688</td>\n",
       "      <td>0.929613</td>\n",
       "    </tr>\n",
       "    <tr>\n",
       "      <td>3200</td>\n",
       "      <td>0.187400</td>\n",
       "      <td>0.195045</td>\n",
       "      <td>0.925000</td>\n",
       "      <td>0.926824</td>\n",
       "      <td>0.925000</td>\n",
       "      <td>0.924847</td>\n",
       "    </tr>\n",
       "    <tr>\n",
       "      <td>3300</td>\n",
       "      <td>0.165000</td>\n",
       "      <td>0.190215</td>\n",
       "      <td>0.929688</td>\n",
       "      <td>0.929600</td>\n",
       "      <td>0.929688</td>\n",
       "      <td>0.929594</td>\n",
       "    </tr>\n",
       "    <tr>\n",
       "      <td>3400</td>\n",
       "      <td>0.172500</td>\n",
       "      <td>0.197081</td>\n",
       "      <td>0.934375</td>\n",
       "      <td>0.935357</td>\n",
       "      <td>0.934375</td>\n",
       "      <td>0.934084</td>\n",
       "    </tr>\n",
       "    <tr>\n",
       "      <td>3500</td>\n",
       "      <td>0.162900</td>\n",
       "      <td>0.191059</td>\n",
       "      <td>0.931250</td>\n",
       "      <td>0.931590</td>\n",
       "      <td>0.931250</td>\n",
       "      <td>0.930958</td>\n",
       "    </tr>\n",
       "    <tr>\n",
       "      <td>3600</td>\n",
       "      <td>0.172100</td>\n",
       "      <td>0.189151</td>\n",
       "      <td>0.937500</td>\n",
       "      <td>0.937187</td>\n",
       "      <td>0.937500</td>\n",
       "      <td>0.937275</td>\n",
       "    </tr>\n",
       "    <tr>\n",
       "      <td>3700</td>\n",
       "      <td>0.176100</td>\n",
       "      <td>0.191229</td>\n",
       "      <td>0.935937</td>\n",
       "      <td>0.935540</td>\n",
       "      <td>0.935937</td>\n",
       "      <td>0.935653</td>\n",
       "    </tr>\n",
       "    <tr>\n",
       "      <td>3800</td>\n",
       "      <td>0.154500</td>\n",
       "      <td>0.191715</td>\n",
       "      <td>0.929688</td>\n",
       "      <td>0.930231</td>\n",
       "      <td>0.929688</td>\n",
       "      <td>0.929748</td>\n",
       "    </tr>\n",
       "    <tr>\n",
       "      <td>3900</td>\n",
       "      <td>0.159400</td>\n",
       "      <td>0.191442</td>\n",
       "      <td>0.929688</td>\n",
       "      <td>0.930056</td>\n",
       "      <td>0.929688</td>\n",
       "      <td>0.929681</td>\n",
       "    </tr>\n",
       "    <tr>\n",
       "      <td>4000</td>\n",
       "      <td>0.160400</td>\n",
       "      <td>0.193531</td>\n",
       "      <td>0.932813</td>\n",
       "      <td>0.932478</td>\n",
       "      <td>0.932813</td>\n",
       "      <td>0.932577</td>\n",
       "    </tr>\n",
       "    <tr>\n",
       "      <td>4100</td>\n",
       "      <td>0.159600</td>\n",
       "      <td>0.192179</td>\n",
       "      <td>0.934375</td>\n",
       "      <td>0.934300</td>\n",
       "      <td>0.934375</td>\n",
       "      <td>0.934251</td>\n",
       "    </tr>\n",
       "    <tr>\n",
       "      <td>4200</td>\n",
       "      <td>0.163600</td>\n",
       "      <td>0.184061</td>\n",
       "      <td>0.934375</td>\n",
       "      <td>0.934464</td>\n",
       "      <td>0.934375</td>\n",
       "      <td>0.934213</td>\n",
       "    </tr>\n",
       "    <tr>\n",
       "      <td>4300</td>\n",
       "      <td>0.162500</td>\n",
       "      <td>0.188460</td>\n",
       "      <td>0.935937</td>\n",
       "      <td>0.935819</td>\n",
       "      <td>0.935937</td>\n",
       "      <td>0.935874</td>\n",
       "    </tr>\n",
       "    <tr>\n",
       "      <td>4400</td>\n",
       "      <td>0.150900</td>\n",
       "      <td>0.194783</td>\n",
       "      <td>0.929688</td>\n",
       "      <td>0.929633</td>\n",
       "      <td>0.929688</td>\n",
       "      <td>0.929603</td>\n",
       "    </tr>\n",
       "    <tr>\n",
       "      <td>4500</td>\n",
       "      <td>0.161300</td>\n",
       "      <td>0.197672</td>\n",
       "      <td>0.934375</td>\n",
       "      <td>0.934348</td>\n",
       "      <td>0.934375</td>\n",
       "      <td>0.934240</td>\n",
       "    </tr>\n",
       "    <tr>\n",
       "      <td>4600</td>\n",
       "      <td>0.172000</td>\n",
       "      <td>0.195045</td>\n",
       "      <td>0.931250</td>\n",
       "      <td>0.931236</td>\n",
       "      <td>0.931250</td>\n",
       "      <td>0.931185</td>\n",
       "    </tr>\n",
       "    <tr>\n",
       "      <td>4700</td>\n",
       "      <td>0.132100</td>\n",
       "      <td>0.193134</td>\n",
       "      <td>0.934375</td>\n",
       "      <td>0.934195</td>\n",
       "      <td>0.934375</td>\n",
       "      <td>0.934271</td>\n",
       "    </tr>\n",
       "    <tr>\n",
       "      <td>4800</td>\n",
       "      <td>0.154200</td>\n",
       "      <td>0.192686</td>\n",
       "      <td>0.931250</td>\n",
       "      <td>0.931631</td>\n",
       "      <td>0.931250</td>\n",
       "      <td>0.931206</td>\n",
       "    </tr>\n",
       "    <tr>\n",
       "      <td>4900</td>\n",
       "      <td>0.158700</td>\n",
       "      <td>0.191581</td>\n",
       "      <td>0.934375</td>\n",
       "      <td>0.934175</td>\n",
       "      <td>0.934375</td>\n",
       "      <td>0.934171</td>\n",
       "    </tr>\n",
       "    <tr>\n",
       "      <td>5000</td>\n",
       "      <td>0.158100</td>\n",
       "      <td>0.192295</td>\n",
       "      <td>0.931250</td>\n",
       "      <td>0.931288</td>\n",
       "      <td>0.931250</td>\n",
       "      <td>0.931092</td>\n",
       "    </tr>\n",
       "    <tr>\n",
       "      <td>5100</td>\n",
       "      <td>0.159900</td>\n",
       "      <td>0.192503</td>\n",
       "      <td>0.929688</td>\n",
       "      <td>0.929584</td>\n",
       "      <td>0.929688</td>\n",
       "      <td>0.929564</td>\n",
       "    </tr>\n",
       "    <tr>\n",
       "      <td>5200</td>\n",
       "      <td>0.148400</td>\n",
       "      <td>0.189919</td>\n",
       "      <td>0.935937</td>\n",
       "      <td>0.935755</td>\n",
       "      <td>0.935937</td>\n",
       "      <td>0.935824</td>\n",
       "    </tr>\n",
       "    <tr>\n",
       "      <td>5300</td>\n",
       "      <td>0.146900</td>\n",
       "      <td>0.196623</td>\n",
       "      <td>0.934375</td>\n",
       "      <td>0.934175</td>\n",
       "      <td>0.934375</td>\n",
       "      <td>0.934171</td>\n",
       "    </tr>\n",
       "    <tr>\n",
       "      <td>5400</td>\n",
       "      <td>0.142900</td>\n",
       "      <td>0.191141</td>\n",
       "      <td>0.935937</td>\n",
       "      <td>0.936010</td>\n",
       "      <td>0.935937</td>\n",
       "      <td>0.935879</td>\n",
       "    </tr>\n",
       "    <tr>\n",
       "      <td>5500</td>\n",
       "      <td>0.155600</td>\n",
       "      <td>0.190299</td>\n",
       "      <td>0.935937</td>\n",
       "      <td>0.935779</td>\n",
       "      <td>0.935937</td>\n",
       "      <td>0.935791</td>\n",
       "    </tr>\n",
       "  </tbody>\n",
       "</table><p>"
      ],
      "text/plain": [
       "<IPython.core.display.HTML object>"
      ]
     },
     "metadata": {},
     "output_type": "display_data"
    },
    {
     "name": "stdout",
     "output_type": "stream",
     "text": [
      "Training completed with loss: 0.2111\n",
      "Training time: 5097.36 seconds\n"
     ]
    }
   ],
   "source": [
    "# Start Training\n",
    "peft_lora_finetuning_trainer = get_trainer(peft_model)\n",
    "\n",
    "# Train the model and capture results\n",
    "result = peft_lora_finetuning_trainer.train()\n",
    "\n",
    "# Display training results\n",
    "print(f\"Training completed with loss: {result.metrics['train_loss']:.4f}\")\n",
    "print(f\"Training time: {result.metrics['train_runtime']:.2f} seconds\")"
   ]
  },
  {
   "cell_type": "code",
   "execution_count": 23,
   "metadata": {
    "id": "FO_cPvfZZS9a"
   },
   "outputs": [],
   "source": [
    "# Inference function\n",
    "def classify(model, tokenizer, text):\n",
    "    device = torch.device(\"cuda\" if torch.cuda.is_available() else \"cpu\")\n",
    "    inputs = tokenizer(text, truncation=True, padding=True, return_tensors=\"pt\").to(device)\n",
    "    model.to(device)\n",
    "    model.eval()\n",
    "\n",
    "    with torch.no_grad():\n",
    "        output = model(**inputs)\n",
    "\n",
    "    # Get prediction and convert to probabilities\n",
    "    logits = output.logits\n",
    "    probabilities = torch.nn.functional.softmax(logits, dim=-1)\n",
    "    prediction = logits.argmax(dim=-1).item()\n",
    "    confidence = probabilities[0][prediction].item()\n",
    "\n",
    "    print(f'\\nClass: {prediction}, Label: {id2label[prediction]}, Confidence: {confidence:.4f}')\n",
    "    print(f'Text: {text}')\n",
    "\n",
    "    # Show all class probabilities\n",
    "    print(\"\\nProbabilities for all classes:\")\n",
    "    for i, label in id2label.items():\n",
    "        print(f\"{label}: {probabilities[0][i].item():.4f}\")\n",
    "\n",
    "    return id2label[prediction]"
   ]
  },
  {
   "cell_type": "code",
   "execution_count": 24,
   "metadata": {
    "colab": {
     "base_uri": "https://localhost:8080/",
     "height": 698
    },
    "id": "dm4ah4BiZWQf",
    "outputId": "ee343b0c-492b-4a62-d817-0cb2f73ce08d"
   },
   "outputs": [
    {
     "name": "stdout",
     "output_type": "stream",
     "text": [
      "\n",
      "Class: 0, Label: World, Confidence: 0.9990\n",
      "Text: Kederis proclaims innocence Olympic champion Kostas Kederis today left hospital ahead of his date with IOC inquisitors claiming his innocence...\n",
      "\n",
      "Probabilities for all classes:\n",
      "World: 0.9990\n",
      "Sports: 0.0006\n",
      "Business: 0.0001\n",
      "Sci/Tech: 0.0004\n",
      "\n",
      "Class: 2, Label: Business, Confidence: 0.8379\n",
      "Text: Wall St. Bears Claw Back Into the Black (Reuters) Reuters - Short-sellers, Wall Street's dwindling band of ultra-cynics, are seeing green again.\n",
      "\n",
      "Probabilities for all classes:\n",
      "World: 0.1602\n",
      "Sports: 0.0000\n",
      "Business: 0.8379\n",
      "Sci/Tech: 0.0019\n",
      "\n",
      "Class: 3, Label: Sci/Tech, Confidence: 0.9884\n",
      "Text: Google announces new smartphone with advanced AI capabilities at annual developer conference\n",
      "\n",
      "Probabilities for all classes:\n",
      "World: 0.0020\n",
      "Sports: 0.0000\n",
      "Business: 0.0095\n",
      "Sci/Tech: 0.9884\n",
      "\n",
      "Class: 3, Label: Sci/Tech, Confidence: 0.9445\n",
      "Text: Scientists discover potential cure for cancer in rainforest plant, clinical trials to begin next year\n",
      "\n",
      "Probabilities for all classes:\n",
      "World: 0.0500\n",
      "Sports: 0.0000\n",
      "Business: 0.0055\n",
      "Sci/Tech: 0.9445\n"
     ]
    },
    {
     "data": {
      "application/vnd.google.colaboratory.intrinsic+json": {
       "type": "string"
      },
      "text/plain": [
       "'Sci/Tech'"
      ]
     },
     "execution_count": 24,
     "metadata": {},
     "output_type": "execute_result"
    }
   ],
   "source": [
    "# Test with examples to verify model performance\n",
    "classify(peft_model, tokenizer, \"Kederis proclaims innocence Olympic champion Kostas Kederis today left hospital ahead of his date with IOC inquisitors claiming his innocence...\")\n",
    "classify(peft_model, tokenizer, \"Wall St. Bears Claw Back Into the Black (Reuters) Reuters - Short-sellers, Wall Street's dwindling band of ultra-cynics, are seeing green again.\")\n",
    "classify(peft_model, tokenizer, \"Google announces new smartphone with advanced AI capabilities at annual developer conference\")\n",
    "classify(peft_model, tokenizer, \"Scientists discover potential cure for cancer in rainforest plant, clinical trials to begin next year\")"
   ]
  },
  {
   "cell_type": "code",
   "execution_count": 25,
   "metadata": {
    "id": "2jSczJ8_ZaN3"
   },
   "outputs": [],
   "source": [
    "# Evaluation function\n",
    "def evaluate_model(inference_model, dataset, labelled=True, batch_size=8, data_collator=None):\n",
    "    \"\"\"\n",
    "    Evaluate a PEFT model on a dataset.\n",
    "    \"\"\"\n",
    "    # Create the DataLoader\n",
    "    eval_dataloader = DataLoader(dataset, batch_size=batch_size, collate_fn=data_collator)\n",
    "    device = torch.device(\"cuda\" if torch.cuda.is_available() else \"cpu\")\n",
    "\n",
    "    inference_model.to(device)\n",
    "    inference_model.eval()\n",
    "\n",
    "    all_predictions = []\n",
    "    if labelled:\n",
    "        all_labels = []\n",
    "\n",
    "    # Loop over the DataLoader\n",
    "    for batch in tqdm(eval_dataloader):\n",
    "        # Move each tensor in the batch to the device\n",
    "        batch = {k: v.to(device) for k, v in batch.items()}\n",
    "        with torch.no_grad():\n",
    "            outputs = inference_model(**batch)\n",
    "        predictions = outputs.logits.argmax(dim=-1)\n",
    "        all_predictions.append(predictions.cpu())\n",
    "\n",
    "        if labelled:\n",
    "            # Expecting that labels are provided under the \"labels\" key.\n",
    "            references = batch[\"labels\"]\n",
    "            all_labels.append(references.cpu())\n",
    "\n",
    "    # Concatenate predictions from all batches\n",
    "    all_predictions = torch.cat(all_predictions, dim=0)\n",
    "\n",
    "    if labelled:\n",
    "        all_labels = torch.cat(all_labels, dim=0)\n",
    "\n",
    "        # Calculate metrics\n",
    "        accuracy = accuracy_score(all_labels.numpy(), all_predictions.numpy())\n",
    "        precision = precision_score(all_labels.numpy(), all_predictions.numpy(), average='weighted')\n",
    "        recall = recall_score(all_labels.numpy(), all_predictions.numpy(), average='weighted')\n",
    "        f1 = f1_score(all_labels.numpy(), all_predictions.numpy(), average='weighted')\n",
    "\n",
    "        # Create confusion matrix\n",
    "        cm = confusion_matrix(all_labels.numpy(), all_predictions.numpy())\n",
    "\n",
    "        # Plot confusion matrix\n",
    "        plt.figure(figsize=(10, 8))\n",
    "        sns.heatmap(\n",
    "            cm,\n",
    "            annot=True,\n",
    "            fmt='d',\n",
    "            cmap='Blues',\n",
    "            xticklabels=[id2label[i] for i in range(len(id2label))],\n",
    "            yticklabels=[id2label[i] for i in range(len(id2label))]\n",
    "        )\n",
    "        plt.xlabel('Predicted')\n",
    "        plt.ylabel('True')\n",
    "        plt.title('Confusion Matrix')\n",
    "        plt.tight_layout()\n",
    "        plt.show()\n",
    "\n",
    "        print(f\"Evaluation Metrics:\")\n",
    "        print(f\"Accuracy: {accuracy:.4f}\")\n",
    "        print(f\"Precision: {precision:.4f}\")\n",
    "        print(f\"Recall: {recall:.4f}\")\n",
    "        print(f\"F1 Score: {f1:.4f}\")\n",
    "\n",
    "        return {\n",
    "            'accuracy': accuracy,\n",
    "            'precision': precision,\n",
    "            'recall': recall,\n",
    "            'f1': f1\n",
    "        }, all_predictions\n",
    "    else:\n",
    "        return all_predictions"
   ]
  },
  {
   "cell_type": "code",
   "execution_count": 26,
   "metadata": {
    "colab": {
     "base_uri": "https://localhost:8080/",
     "height": 698
    },
    "id": "jgPxeocNZfUK",
    "outputId": "113ad366-18bc-4ced-f118-d7b1ac802666"
   },
   "outputs": [
    {
     "name": "stderr",
     "output_type": "stream",
     "text": [
      "100%|██████████| 20/20 [00:03<00:00,  5.90it/s]\n"
     ]
    },
    {
     "data": {
      "image/png": "[encoded data removed]",
      "text/plain": [
       "<Figure size 1000x800 with 2 Axes>"
      ]
     },
     "metadata": {},
     "output_type": "display_data"
    },
    {
     "name": "stdout",
     "output_type": "stream",
     "text": [
      "Evaluation Metrics:\n",
      "Accuracy: 0.9328\n",
      "Precision: 0.9326\n",
      "Recall: 0.9328\n",
      "F1 Score: 0.9327\n",
      "\n",
      "Validation accuracy: 0.9328\n"
     ]
    }
   ],
   "source": [
    "# Check evaluation accuracy on validation set\n",
    "eval_metrics, _ = evaluate_model(peft_model, eval_dataset, True, 32, data_collator)\n",
    "print(f\"\\nValidation accuracy: {eval_metrics['accuracy']:.4f}\")"
   ]
  },
  {
   "cell_type": "code",
   "execution_count": 27,
   "metadata": {
    "colab": {
     "base_uri": "https://localhost:8080/",
     "height": 319,
     "referenced_widgets": [
      "f8d3b5ace5f34f27b8c7cbf1b87bf02b",
      "26928a4a39694e9983aa01bd167113a3",
      "5c630e1e350041999a40e559fe2f2ba4",
      "738e6d37a3414511a88934873a54572c",
      "7525803c7f43408eb6911e31f37b01fa",
      "5839fccf92bc437985714c28c7e38a96",
      "c02e50ea22d741068a4168e7af8ccbf6",
      "eb70e3dca1224312a9925c97b39ee94e",
      "643795bdca264224943cac921597f4c6",
      "051c9335ab3341869442609d1ddd924d",
      "6e2fc744cc114370838c7589dc56b0a9"
     ]
    },
    "id": "r047mhyTZh3u",
    "outputId": "5c0401dd-74b0-43ec-cae8-65ddbe11d657"
   },
   "outputs": [
    {
     "name": "stdout",
     "output_type": "stream",
     "text": [
      "\n",
      "Processing unlabelled test data...\n",
      "Unlabelled dataset keys: ['text']\n"
     ]
    },
    {
     "data": {
      "application/vnd.jupyter.widget-view+json": {
       "model_id": "f8d3b5ace5f34f27b8c7cbf1b87bf02b",
       "version_major": 2,
       "version_minor": 0
      },
      "text/plain": [
       "Map:   0%|          | 0/8000 [00:00<?, ? examples/s]"
      ]
     },
     "metadata": {},
     "output_type": "display_data"
    },
    {
     "name": "stdout",
     "output_type": "stream",
     "text": [
      "Loaded 8000 unlabelled test samples\n",
      "Running inference on test dataset...\n"
     ]
    },
    {
     "name": "stderr",
     "output_type": "stream",
     "text": [
      "100%|██████████| 250/250 [00:29<00:00,  8.47it/s]"
     ]
    },
    {
     "name": "stdout",
     "output_type": "stream",
     "text": [
      "Inference complete. Predictions saved to results/inference_output.csv\n",
      "\n",
      "Sample predictions:\n",
      "Sample 0: Predicted class: 3 (Sci/Tech)\n",
      "Sample 1: Predicted class: 0 (World)\n",
      "Sample 2: Predicted class: 0 (World)\n",
      "Sample 3: Predicted class: 3 (Sci/Tech)\n",
      "Sample 4: Predicted class: 1 (Sports)\n"
     ]
    },
    {
     "name": "stderr",
     "output_type": "stream",
     "text": [
      "\n"
     ]
    }
   ],
   "source": [
    "\n",
    "# Process unlabelled test data\n",
    "try:\n",
    "    print(\"\\nProcessing unlabelled test data...\")\n",
    "    unlabelled_dataset = pd.read_pickle(\"test_unlabelled.pkl\")\n",
    "\n",
    "    # For unlabelled dataset, check its structure\n",
    "    print(f\"Unlabelled dataset keys: {unlabelled_dataset.column_names if hasattr(unlabelled_dataset, 'column_names') else 'N/A'}\")\n",
    "\n",
    "    # If it's a pandas DataFrame, convert to HF Dataset\n",
    "    if isinstance(unlabelled_dataset, pd.DataFrame):\n",
    "        print(\"Converting DataFrame to Dataset\")\n",
    "        unlabelled_dataset = Dataset.from_pandas(unlabelled_dataset)\n",
    "\n",
    "    # Preprocess the test data the same way as training data\n",
    "    test_dataset = unlabelled_dataset.map(preprocess, batched=True, remove_columns=[\"text\"])\n",
    "    print(f\"Loaded {len(test_dataset)} unlabelled test samples\")\n",
    "\n",
    "    # Run inference and save predictions\n",
    "    print(\"Running inference on test dataset...\")\n",
    "    preds = evaluate_model(peft_model, test_dataset, False, 32, data_collator)\n",
    "\n",
    "    df_output = pd.DataFrame({\n",
    "        'ID': range(len(preds)),\n",
    "        'Label': preds.numpy()  # Convert to numpy for saving\n",
    "    })\n",
    "\n",
    "    # Save predictions to CSV for submission\n",
    "    submission_path = os.path.join(output_dir, \"inference_output.csv\")\n",
    "    df_output.to_csv(submission_path, index=False)\n",
    "    print(f\"Inference complete. Predictions saved to {submission_path}\")\n",
    "\n",
    "    # Check the first few predictions\n",
    "    print(\"\\nSample predictions:\")\n",
    "    for i in range(min(5, len(df_output))):\n",
    "        pred_class = df_output['Label'][i]\n",
    "        print(f\"Sample {i}: Predicted class: {pred_class} ({id2label[pred_class]})\")\n",
    "\n",
    "except Exception as e:\n",
    "    print(f\"Error processing unlabelled test data: {e}\")\n",
    "    print(\"Skipping test data processing - you'll need to rerun this section when you have the test data.\")"
   ]
  },
  {
   "cell_type": "code",
   "execution_count": 28,
   "metadata": {
    "colab": {
     "base_uri": "https://localhost:8080/"
    },
    "id": "uroUadnTZoT9",
    "outputId": "b6e9771d-c65a-4104-822a-d5eb1759ffd4"
   },
   "outputs": [
    {
     "name": "stdout",
     "output_type": "stream",
     "text": [
      "\n",
      "Final Model Parameters:\n",
      "Total parameters: 125,629,448\n",
      "Trainable parameters: 980,740\n",
      "Percentage of parameters that are trainable: 0.78%\n",
      "Under 1M parameter limit: Yes\n"
     ]
    }
   ],
   "source": [
    "\n",
    "# Final parameter check\n",
    "final_trainable_params, final_all_params = count_trainable_parameters(peft_model)\n",
    "print(\"\\nFinal Model Parameters:\")\n",
    "print(f\"Total parameters: {final_all_params:,}\")\n",
    "print(f\"Trainable parameters: {final_trainable_params:,}\")\n",
    "print(f\"Percentage of parameters that are trainable: {100 * final_trainable_params / final_all_params:.2f}%\")\n",
    "print(f\"Under 1M parameter limit: {'Yes' if final_trainable_params <= 1_000_000 else 'No'}\")"
   ]
  },
  {
   "cell_type": "code",
   "execution_count": 29,
   "metadata": {
    "colab": {
     "base_uri": "https://localhost:8080/"
    },
    "id": "Sp3-TdEAZrJi",
    "outputId": "e2e50b60-c9ab-4143-f8f9-14877c198043"
   },
   "outputs": [
    {
     "name": "stdout",
     "output_type": "stream",
     "text": [
      "Final model saved to results/final_model\n",
      "\n",
      "Training and evaluation complete! The model is ready for submission.\n",
      "Final accuracy: 0.9328\n",
      "The model uses 980,740 trainable parameters (limit: 1,000,000)\n"
     ]
    }
   ],
   "source": [
    "\n",
    "# Save the final model\n",
    "final_model_path = os.path.join(output_dir, \"final_model\")\n",
    "peft_lora_finetuning_trainer.save_model(final_model_path)\n",
    "print(f\"Final model saved to {final_model_path}\")\n",
    "\n",
    "print(\"\\nTraining and evaluation complete! The model is ready for submission.\")\n",
    "print(f\"Final accuracy: {eval_metrics['accuracy']:.4f}\")\n",
    "print(f\"The model uses {final_trainable_params:,} trainable parameters (limit: 1,000,000)\")"
   ]
  },
  {
   "cell_type": "code",
   "execution_count": null,
   "metadata": {
    "id": "N9E5cU0IVv1j"
   },
   "outputs": [],
   "source": []
  }
 ],
 "metadata": {
  "accelerator": "GPU",
  "colab": {
   "gpuType": "T4",
   "machine_shape": "hm",
   "provenance": []
  },
  "kernelspec": {
   "display_name": "Python 3.11.4 ('base')",
   "language": "python",
   "name": "python3"
  },
  "language_info": {
   "name": "python",
   "version": "3.11.4"
  },
  "vscode": {
   "interpreter": {
    "hash": "c5f29ab0bd70a3fdfe3350be4806661ff87a7ec1a414855bb5824b269ce85de1"
   }
  }
 },
 "nbformat": 4,
 "nbformat_minor": 0
}
